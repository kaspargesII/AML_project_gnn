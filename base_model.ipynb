{
 "cells": [
  {
   "cell_type": "code",
   "execution_count": 7,
   "metadata": {},
   "outputs": [],
   "source": [
    "import os\n",
    "import pickle\n",
    "import scipy.io"
   ]
  },
  {
   "cell_type": "code",
   "execution_count": 85,
   "metadata": {},
   "outputs": [],
   "source": [
    "mat1 = scipy.io.loadmat('/Users/niclasclassen/Code/Master/AML_project_gnn/dataset/raw_data/sub001/After_remarks.mat')\n",
    "mat2 = scipy.io.loadmat('/Users/niclasclassen/Code/Master/AML_project_gnn/dataset/raw_data/sub102/After_remarks.mat')"
   ]
  },
  {
   "cell_type": "code",
   "execution_count": 116,
   "metadata": {},
   "outputs": [
    {
     "data": {
      "text/plain": [
       "(array([[0.        , 0.01458333, 0.01458333, 0.40833333, 0.00729167,\n",
       "        0.00729167, 0.021875  , 0.01458333, 0.43020833, 0.73645833,\n",
       "        6.978125  , 0.00729167]]), array([[12]], dtype=uint8), array([[19]], dtype=uint8), array([[0.25]]), array([[2.7707663, 2.962698 , 4.0003422, 3.4411268, 3.3971888, 4.0003483,\n",
       "        4.0002634, 3.8021793, 4.0001396, 4.0002764, 3.7575706, 4.0003451,\n",
       "        4.0001945, 4.0001503, 4.0002522, 2.632184 , 4.0002848, 2.9562212,\n",
       "        4.000148 , 4.0001841]]))"
      ]
     },
     "execution_count": 116,
     "metadata": {},
     "output_type": "execute_result"
    }
   ],
   "source": [
    "mat2['After_remark'][11][0]"
   ]
  },
  {
   "cell_type": "code",
   "execution_count": 117,
   "metadata": {},
   "outputs": [
    {
     "data": {
      "text/plain": [
       "(array([[0.021875  , 3.565625  , 3.54375   , 0.        , 0.        ,\n",
       "        0.        , 0.        , 1.65520833, 1.87395833, 0.61979167,\n",
       "        6.98541667, 1.34895833]]), array([[7]], dtype=uint8), array([[26]], dtype=uint8), array([], shape=(1, 0), dtype=float64), array([], shape=(1, 0), dtype=float64))"
      ]
     },
     "execution_count": 117,
     "metadata": {},
     "output_type": "execute_result"
    }
   ],
   "source": [
    "mat2['After_remark'][6][0]"
   ]
  }
 ],
 "metadata": {
  "kernelspec": {
   "display_name": ".venv",
   "language": "python",
   "name": "python3"
  },
  "language_info": {
   "codemirror_mode": {
    "name": "ipython",
    "version": 3
   },
   "file_extension": ".py",
   "mimetype": "text/x-python",
   "name": "python",
   "nbconvert_exporter": "python",
   "pygments_lexer": "ipython3",
   "version": "3.11.5"
  }
 },
 "nbformat": 4,
 "nbformat_minor": 2
}
