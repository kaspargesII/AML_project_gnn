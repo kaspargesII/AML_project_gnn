{
  "cells": [
    {
      "cell_type": "code",
      "execution_count": null,
      "metadata": {
        "id": "VcR160iF8LSN"
      },
      "outputs": [],
      "source": [
        "!pip install wandb"
      ]
    },
    {
      "cell_type": "code",
      "execution_count": null,
      "metadata": {
        "id": "3_52HlmOsPp4"
      },
      "outputs": [],
      "source": [
        "from torch.utils.data import Dataset\n",
        "from torchvision import datasets\n",
        "from torchvision.transforms import ToTensor\n",
        "import matplotlib.pyplot as plt\n",
        "import os\n",
        "import pandas as pd\n",
        "import torch.nn as nn\n",
        "import torch.nn.functional as F\n",
        "import torch.optim as optim\n",
        "from sklearn.model_selection import KFold\n",
        "from torch.utils.data import DataLoader\n",
        "import pickle\n",
        "import numpy as np\n",
        "import torch\n",
        "from sklearn import metrics\n",
        "import wandb\n",
        "from tqdm import tqdm\n",
        "from sklearn.model_selection import StratifiedShuffleSplit\n",
        "from sklearn.model_selection import ShuffleSplit\n"
      ]
    },
    {
      "cell_type": "code",
      "execution_count": null,
      "metadata": {
        "colab": {
          "base_uri": "https://localhost:8080/",
          "height": 124
        },
        "id": "qg2RrUALvxM3",
        "outputId": "0e7e5631-ccee-4512-de08-81d60e363d71"
      },
      "outputs": [
        {
          "output_type": "display_data",
          "data": {
            "text/plain": [
              "<IPython.core.display.Javascript object>"
            ],
            "application/javascript": [
              "\n",
              "        window._wandbApiKey = new Promise((resolve, reject) => {\n",
              "            function loadScript(url) {\n",
              "            return new Promise(function(resolve, reject) {\n",
              "                let newScript = document.createElement(\"script\");\n",
              "                newScript.onerror = reject;\n",
              "                newScript.onload = resolve;\n",
              "                document.body.appendChild(newScript);\n",
              "                newScript.src = url;\n",
              "            });\n",
              "            }\n",
              "            loadScript(\"https://cdn.jsdelivr.net/npm/postmate/build/postmate.min.js\").then(() => {\n",
              "            const iframe = document.createElement('iframe')\n",
              "            iframe.style.cssText = \"width:0;height:0;border:none\"\n",
              "            document.body.appendChild(iframe)\n",
              "            const handshake = new Postmate({\n",
              "                container: iframe,\n",
              "                url: 'https://wandb.ai/authorize'\n",
              "            });\n",
              "            const timeout = setTimeout(() => reject(\"Couldn't auto authenticate\"), 5000)\n",
              "            handshake.then(function(child) {\n",
              "                child.on('authorize', data => {\n",
              "                    clearTimeout(timeout)\n",
              "                    resolve(data)\n",
              "                });\n",
              "            });\n",
              "            })\n",
              "        });\n",
              "    "
            ]
          },
          "metadata": {}
        },
        {
          "output_type": "stream",
          "name": "stderr",
          "text": [
            "\u001b[34m\u001b[1mwandb\u001b[0m: Logging into wandb.ai. (Learn how to deploy a W&B server locally: https://wandb.me/wandb-server)\n",
            "\u001b[34m\u001b[1mwandb\u001b[0m: You can find your API key in your browser here: https://wandb.ai/authorize\n",
            "wandb: Paste an API key from your profile and hit enter, or press ctrl+c to quit:"
          ]
        },
        {
          "name": "stdout",
          "output_type": "stream",
          "text": [
            " ··········\n"
          ]
        },
        {
          "output_type": "stream",
          "name": "stderr",
          "text": [
            "\u001b[34m\u001b[1mwandb\u001b[0m: Appending key for api.wandb.ai to your netrc file: /root/.netrc\n"
          ]
        },
        {
          "output_type": "execute_result",
          "data": {
            "text/plain": [
              "True"
            ]
          },
          "metadata": {},
          "execution_count": 3
        }
      ],
      "source": [
        "wandb.login()"
      ]
    },
    {
      "cell_type": "code",
      "execution_count": null,
      "metadata": {
        "id": "OVZ-Bh6aZoqa"
      },
      "outputs": [],
      "source": [
        "import torch.optim as optim"
      ]
    },
    {
      "cell_type": "code",
      "execution_count": null,
      "metadata": {
        "id": "xL3vg5XY6TZW"
      },
      "outputs": [],
      "source": [
        "device = 'cuda' if torch.cuda.is_available() else 'cpu'"
      ]
    },
    {
      "cell_type": "code",
      "execution_count": null,
      "metadata": {
        "id": "-1ma-NvnsQoV"
      },
      "outputs": [],
      "source": [
        "class CustomEEGDataset(Dataset):\n",
        "    def __init__(self, annotations_file, eeg_file, transform=None, target_transform=None):\n",
        "        self.eeg_labels = torch.from_numpy(np.load(annotations_file).reshape(-1,1))\n",
        "        self.eeg_data = torch.from_numpy(np.load(eeg_file))\n",
        "        self.transform = transform\n",
        "        self.target_transform = target_transform\n",
        "\n",
        "    def __len__(self):\n",
        "        return len(self.eeg_labels)\n",
        "\n",
        "    def __getitem__(self, idx):\n",
        "        label = self.eeg_labels[idx]\n",
        "        eeg = self.eeg_data[idx]\n",
        "        if self.transform:\n",
        "            eeg = self.transform(eeg)\n",
        "        if self.target_transform:\n",
        "            label = self.target_transform(label)\n",
        "        return eeg, label"
      ]
    },
    {
      "cell_type": "markdown",
      "metadata": {
        "id": "BrEG-f-E-2zh"
      },
      "source": [
        "### NEEEEEEEEEEEEEEW"
      ]
    },
    {
      "cell_type": "code",
      "execution_count": null,
      "metadata": {
        "id": "8ptJimPiX1ZL"
      },
      "outputs": [],
      "source": [
        "#DE\n",
        "eeg_DE_dataset = CustomEEGDataset('/content/label_valence_no_neutral_DE.npy','/content/eeg_data_no_neutral_DE.npy' )\n",
        "#trainloader = torch.utils.data.DataLoader(eeg_DE_dataset, batch_size=128,\n",
        "#                                          shuffle=True, num_workers=2)"
      ]
    },
    {
      "cell_type": "code",
      "execution_count": null,
      "metadata": {
        "id": "fgF61bqtGSva"
      },
      "outputs": [],
      "source": [
        "#PSD\n",
        "eeg_PSD_dataset = CustomEEGDataset('/content/label_valence_no_neutral_channel_first.npy','/content/eeg_data_no_neutral_PSD_channel_first.npy' )\n",
        "#trainloader = torch.utils.data.DataLoader(eeg_PSD_dataset, batch_size=64,\n",
        "#                                          shuffle=True, num_workers=2)"
      ]
    },
    {
      "cell_type": "code",
      "execution_count": null,
      "metadata": {
        "id": "DyA_kTm7ArVr"
      },
      "outputs": [],
      "source": [
        "# New label strategy PSD\n",
        "#PSD\n",
        "eeg_PSD_dataset = CustomEEGDataset('/content/label_based_on_movie_classification.npy','/content/eeg_data_no_neutral_PSD_channel_first_second_run.npy' )\n",
        "#trainloader = torch.utils.data.DataLoader(eeg_PSD_dataset, batch_size=64,\n",
        "#                                          shuffle=True, num_workers=2)"
      ]
    },
    {
      "cell_type": "code",
      "execution_count": null,
      "metadata": {
        "id": "BuZwTQnFN6vG"
      },
      "outputs": [],
      "source": [
        "# New label strategy DE\n",
        "# New label strategy PSD\n",
        "#PSD\n",
        "eeg_DE_dataset = CustomEEGDataset('/content/label_based_on_movie_classification.npy','/content/eeg_data_no_neutral_DE_channel_first_second_run.npy' )\n",
        "#trainloader = torch.utils.data.DataLoader(eeg_DE_dataset, batch_size=64,\n",
        "#                                          shuffle=True, num_workers=2)"
      ]
    },
    {
      "cell_type": "markdown",
      "metadata": {
        "id": "YQCXIGVsc40P"
      },
      "source": [
        "Batchnormalization CNN"
      ]
    },
    {
      "cell_type": "code",
      "execution_count": null,
      "metadata": {
        "colab": {
          "base_uri": "https://localhost:8080/"
        },
        "id": "8qUvbxk3c3yx",
        "outputId": "bd6bed74-5f86-4f7c-b1b7-0aabbe168124"
      },
      "outputs": [
        {
          "output_type": "execute_result",
          "data": {
            "text/plain": [
              "Net(\n",
              "  (batch_norm1): BatchNorm2d(5, eps=1e-05, momentum=0.1, affine=True, track_running_stats=True)\n",
              "  (batch_norm2): BatchNorm1d(16, eps=1e-05, momentum=0.1, affine=True, track_running_stats=True)\n",
              "  (conv): Conv2d(5, 8, kernel_size=(2, 3), stride=(1, 1), padding=valid)\n",
              "  (conv1): Conv2d(8, 6, kernel_size=(3, 2), stride=(1, 1), padding=valid)\n",
              "  (conv2): Conv2d(6, 4, kernel_size=(2, 3), stride=(1, 1), padding=valid)\n",
              "  (conv3): Conv2d(8, 6, kernel_size=(2, 2), stride=(1, 1), padding=valid)\n",
              "  (pool): MaxPool2d(kernel_size=2, stride=2, padding=0, dilation=1, ceil_mode=False)\n",
              "  (pool2): MaxPool2d(kernel_size=2, stride=2, padding=0, dilation=1, ceil_mode=False)\n",
              "  (conv4): Conv2d(32, 20, kernel_size=(3, 2), stride=(1, 1), padding=valid)\n",
              "  (conv5): Conv2d(20, 10, kernel_size=(2, 2), stride=(1, 1), padding=valid)\n",
              "  (fc1): Linear(in_features=120, out_features=16, bias=True)\n",
              "  (fc2): Linear(in_features=16, out_features=1, bias=True)\n",
              "  (dropout1): Dropout(p=0.4, inplace=False)\n",
              "  (dropout2): Dropout(p=0.2, inplace=False)\n",
              "  (sigmoid): Sigmoid()\n",
              ")"
            ]
          },
          "metadata": {},
          "execution_count": 20
        }
      ],
      "source": [
        "class Net(nn.Module):\n",
        "    def __init__(self):\n",
        "        super().__init__()\n",
        "        self.batch_norm1 = nn.BatchNorm2d(5)\n",
        "        self.batch_norm2 = nn.BatchNorm1d(16)\n",
        "        #self.batch_norm3 = nn.BatchNorm2d(5)\n",
        "        #self.batch_norm4 = nn.BatchNorm2d(5)\n",
        "        self.conv = torch.nn.Conv2d(5, 8, (2,3),padding = 'valid')\n",
        "        self.conv1 = nn.Conv2d(8, 6, (3,2), padding = 'valid')\n",
        "        self.conv2 = nn.Conv2d(6, 4, (2,3), padding = 'valid')\n",
        "        self.conv3 = nn.Conv2d(8, 6, (2,2), padding = 'valid')\n",
        "        self.pool = nn.MaxPool2d(2, 2)\n",
        "        self.pool2 = nn.MaxPool2d(2, 2)\n",
        "        self.conv4 = nn.Conv2d(32, 20, (3,2), padding = 'valid')\n",
        "        self.conv5 = nn.Conv2d(20, 10, (2,2), padding = 'valid')\n",
        "        self.fc1 = nn.Linear(120, 16)\n",
        "        self.fc2 = nn.Linear(16, 1)\n",
        "        #self.fc3 = nn.Linear(128, 28)\n",
        "        #self.fc4 = nn.Linear(28, 1)\n",
        "        self.dropout1 = nn.Dropout(0.4)\n",
        "        self.dropout2 = nn.Dropout(0.2)\n",
        "        self.sigmoid = nn.Sigmoid()\n",
        "\n",
        "    def forward(self, x):\n",
        "        x = self.batch_norm1(x)\n",
        "        x = F.relu(self.conv(x))\n",
        "        x = self.pool(F.relu(self.conv1(x)))\n",
        "        x = self.pool2(F.relu(self.conv2(x)))\n",
        "        #x = F.relu(self.conv3(x))\n",
        "        #x = self.pool2(F.relu(self.conv4(x)))\n",
        "        #x = F.relu(self.conv5(x))\n",
        "        x = torch.flatten(x, 1) # flatten all dimensions except batch\n",
        "        x = F.relu(self.fc1(x))\n",
        "        x = self.dropout1(x)\n",
        "        x = self.batch_norm2(x)\n",
        "        #x = self.dropout1(x)\n",
        "        x = self.fc2(x)\n",
        "        #x = self.batch_norm3(x)\n",
        "        x = self.dropout2(x)\n",
        "        #x = F.relu(self.fc3(x))\n",
        "        #x = self.batch_norm4(x)\n",
        "        #x = self.fc4(x)\n",
        "        x = self.sigmoid(x)\n",
        "        return x\n",
        "\n",
        "def train(model, device, train_loader, optimizer, epoch):\n",
        "  model.train()\n",
        "  correct = 0\n",
        "  train_acc = []\n",
        "  for batch_idx, (data, target) in enumerate(train_loader):\n",
        "      data, target = data.to(device), target.to(device)\n",
        "      optimizer.zero_grad()\n",
        "      output = model(data)\n",
        "      loss = nn.functional.binary_cross_entropy(output, target)\n",
        "      #loss = nn.BCELoss(output,target)\n",
        "      loss.backward()\n",
        "      optimizer.step()\n",
        "      output = model(data)\n",
        "      pred = output.round().cpu().detach().numpy()\n",
        "      target = target.cpu().numpy()\n",
        "      acc = metrics.accuracy_score(target,pred) #== target).float().mean()\n",
        "      train_acc.append(acc)\n",
        "  wandb.log({\"train epoch acc\": np.mean(train_acc)})\n",
        "  return train_acc, loss"
      ]
    },
    {
      "cell_type": "markdown",
      "source": [
        "### Intra-subject generalizability"
      ],
      "metadata": {
        "id": "xbMhYI6F6z2G"
      }
    },
    {
      "cell_type": "code",
      "source": [
        "wandb.init(\n",
        "    # set the wandb project where this run will be logged\n",
        "    project=\"CNN EEG BASELINE\",\n",
        "\n",
        "    # track hyperparameters and run metadata\n",
        "    config={\n",
        "    \"learning_rate\": 0.001,\n",
        "    \"architecture\": \"shallow cnn new labels 6\",\n",
        "    \"dataset\": \"EEG\",\n",
        "    \"epochs\": 500,\n",
        "    }\n",
        ")"
      ],
      "metadata": {
        "id": "37LkmR3f7hu4"
      },
      "execution_count": null,
      "outputs": []
    },
    {
      "cell_type": "code",
      "execution_count": null,
      "metadata": {
        "colab": {
          "base_uri": "https://localhost:8080/",
          "height": 430
        },
        "id": "bgD0Kz5aeayS",
        "outputId": "e092423c-3125-4464-a9f9-31ea42ec165c"
      },
      "outputs": [
        {
          "output_type": "stream",
          "name": "stdout",
          "text": [
            "<class 'numpy.int64'>\n",
            "<class 'numpy.ndarray'>\n",
            "Fold 1\n",
            "-------\n"
          ]
        },
        {
          "output_type": "stream",
          "name": "stderr",
          "text": [
            " 14%|█▍        | 4/29 [00:02<00:18,  1.39it/s]\n"
          ]
        },
        {
          "output_type": "error",
          "ename": "KeyboardInterrupt",
          "evalue": "",
          "traceback": [
            "\u001b[0;31m---------------------------------------------------------------------------\u001b[0m",
            "\u001b[0;31mKeyboardInterrupt\u001b[0m                         Traceback (most recent call last)",
            "\u001b[0;32m<ipython-input-45-84470e1e540b>\u001b[0m in \u001b[0;36m<cell line: 13>\u001b[0;34m()\u001b[0m\n\u001b[1;32m     41\u001b[0m     \u001b[0;32mfor\u001b[0m \u001b[0mi\u001b[0m \u001b[0;32min\u001b[0m \u001b[0mrange\u001b[0m\u001b[0;34m(\u001b[0m\u001b[0;36m30\u001b[0m\u001b[0;34m)\u001b[0m\u001b[0;34m:\u001b[0m\u001b[0;34m\u001b[0m\u001b[0;34m\u001b[0m\u001b[0m\n\u001b[1;32m     42\u001b[0m       \u001b[0;32mfor\u001b[0m \u001b[0mepoch\u001b[0m \u001b[0;32min\u001b[0m \u001b[0mtqdm\u001b[0m\u001b[0;34m(\u001b[0m\u001b[0mrange\u001b[0m\u001b[0;34m(\u001b[0m\u001b[0;36m1\u001b[0m\u001b[0;34m,\u001b[0m \u001b[0;36m30\u001b[0m\u001b[0;34m)\u001b[0m\u001b[0;34m)\u001b[0m\u001b[0;34m:\u001b[0m\u001b[0;34m\u001b[0m\u001b[0;34m\u001b[0m\u001b[0m\n\u001b[0;32m---> 43\u001b[0;31m           \u001b[0mtrain_accuracies\u001b[0m\u001b[0;34m,\u001b[0m \u001b[0mloss\u001b[0m \u001b[0;34m=\u001b[0m \u001b[0mtrain\u001b[0m\u001b[0;34m(\u001b[0m\u001b[0mmodel\u001b[0m\u001b[0;34m,\u001b[0m \u001b[0mdevice\u001b[0m\u001b[0;34m,\u001b[0m \u001b[0mtrain_loader\u001b[0m\u001b[0;34m,\u001b[0m \u001b[0moptimizer\u001b[0m\u001b[0;34m,\u001b[0m \u001b[0mepoch\u001b[0m\u001b[0;34m)\u001b[0m\u001b[0;34m\u001b[0m\u001b[0;34m\u001b[0m\u001b[0m\n\u001b[0m\u001b[1;32m     44\u001b[0m           \u001b[0mall_accs_train\u001b[0m\u001b[0;34m.\u001b[0m\u001b[0mappend\u001b[0m\u001b[0;34m(\u001b[0m\u001b[0mnp\u001b[0m\u001b[0;34m.\u001b[0m\u001b[0mmean\u001b[0m\u001b[0;34m(\u001b[0m\u001b[0mtrain_accuracies\u001b[0m\u001b[0;34m)\u001b[0m\u001b[0;34m)\u001b[0m\u001b[0;34m\u001b[0m\u001b[0;34m\u001b[0m\u001b[0m\n\u001b[1;32m     45\u001b[0m           \u001b[0mall_loss_train\u001b[0m\u001b[0;34m.\u001b[0m\u001b[0mappend\u001b[0m\u001b[0;34m(\u001b[0m\u001b[0mloss\u001b[0m\u001b[0;34m)\u001b[0m\u001b[0;34m\u001b[0m\u001b[0;34m\u001b[0m\u001b[0m\n",
            "\u001b[0;32m<ipython-input-20-39d714431a30>\u001b[0m in \u001b[0;36mtrain\u001b[0;34m(model, device, train_loader, optimizer, epoch)\u001b[0m\n\u001b[1;32m     49\u001b[0m   \u001b[0mtrain_acc\u001b[0m \u001b[0;34m=\u001b[0m \u001b[0;34m[\u001b[0m\u001b[0;34m]\u001b[0m\u001b[0;34m\u001b[0m\u001b[0;34m\u001b[0m\u001b[0m\n\u001b[1;32m     50\u001b[0m   \u001b[0;32mfor\u001b[0m \u001b[0mbatch_idx\u001b[0m\u001b[0;34m,\u001b[0m \u001b[0;34m(\u001b[0m\u001b[0mdata\u001b[0m\u001b[0;34m,\u001b[0m \u001b[0mtarget\u001b[0m\u001b[0;34m)\u001b[0m \u001b[0;32min\u001b[0m \u001b[0menumerate\u001b[0m\u001b[0;34m(\u001b[0m\u001b[0mtrain_loader\u001b[0m\u001b[0;34m)\u001b[0m\u001b[0;34m:\u001b[0m\u001b[0;34m\u001b[0m\u001b[0;34m\u001b[0m\u001b[0m\n\u001b[0;32m---> 51\u001b[0;31m       \u001b[0mdata\u001b[0m\u001b[0;34m,\u001b[0m \u001b[0mtarget\u001b[0m \u001b[0;34m=\u001b[0m \u001b[0mdata\u001b[0m\u001b[0;34m.\u001b[0m\u001b[0mto\u001b[0m\u001b[0;34m(\u001b[0m\u001b[0mdevice\u001b[0m\u001b[0;34m)\u001b[0m\u001b[0;34m,\u001b[0m \u001b[0mtarget\u001b[0m\u001b[0;34m.\u001b[0m\u001b[0mto\u001b[0m\u001b[0;34m(\u001b[0m\u001b[0mdevice\u001b[0m\u001b[0;34m)\u001b[0m\u001b[0;34m\u001b[0m\u001b[0;34m\u001b[0m\u001b[0m\n\u001b[0m\u001b[1;32m     52\u001b[0m       \u001b[0moptimizer\u001b[0m\u001b[0;34m.\u001b[0m\u001b[0mzero_grad\u001b[0m\u001b[0;34m(\u001b[0m\u001b[0;34m)\u001b[0m\u001b[0;34m\u001b[0m\u001b[0;34m\u001b[0m\u001b[0m\n\u001b[1;32m     53\u001b[0m       \u001b[0moutput\u001b[0m \u001b[0;34m=\u001b[0m \u001b[0mmodel\u001b[0m\u001b[0;34m(\u001b[0m\u001b[0mdata\u001b[0m\u001b[0;34m)\u001b[0m\u001b[0;34m\u001b[0m\u001b[0;34m\u001b[0m\u001b[0m\n",
            "\u001b[0;31mKeyboardInterrupt\u001b[0m: "
          ]
        }
      ],
      "source": [
        "# Define the number of folds and batch size\n",
        "#k_folds = 2\n",
        "batch_size = 64\n",
        "\n",
        "# Initialize the k-fold cross validation\n",
        "#kf = KFold(n_splits=k_folds, shuffle=True)\n",
        "# SSS instead - for bettter train/test proportion\n",
        "#sss = StratifiedShuffleSplit(n_splits=1, test_size=0.1, random_state=0)\n",
        "# Shufflesplit\n",
        "rs = ShuffleSplit(n_splits=1, test_size=.1)\n",
        "# Loop through each fold\n",
        "test_idx_list = []\n",
        "for fold, (train_idx, test_idx) in enumerate(rs.split(eeg_PSD_dataset)):\n",
        "    print(type(train_idx[0]))\n",
        "    test_idx_list.append(test_idx)\n",
        "    print(type(train_idx))\n",
        "    #print(len(train_idx), len(test_idx), train_idx, test_idx)\n",
        "    print(f\"Fold {fold + 1}\")\n",
        "    print(\"-------\")\n",
        "    all_accs_train = []\n",
        "    all_loss_train = []\n",
        "    # Define the data loaders for the current fold\n",
        "    train_loader = DataLoader(\n",
        "        dataset=eeg_PSD_dataset,\n",
        "        batch_size=batch_size,\n",
        "        sampler=torch.utils.data.SubsetRandomSampler(train_idx),\n",
        "    )\n",
        "\n",
        "    test_loader = DataLoader(\n",
        "        dataset=eeg_PSD_dataset,\n",
        "        batch_size=batch_size,\n",
        "        sampler=torch.utils.data.SubsetRandomSampler(test_idx),\n",
        "    )\n",
        "\n",
        "    # Initialize the model and optimizer\n",
        "    model = Net().to(device)\n",
        "    optimizer = optim.Adam(model.parameters(), lr=0.001, weight_decay=1e-5) #betas=(0.5, 0.99))\n",
        "    #scheduler1 = torch.optim.lr_scheduler.StepLR(optimizer, step_size = 200, gamma = 0.5)\n",
        "\n",
        "    # Train the model on the current fold\n",
        "    for i in range(30):\n",
        "      for epoch in tqdm(range(1, 30)):\n",
        "          train_accuracies, loss = train(model, device, train_loader, optimizer, epoch)\n",
        "          all_accs_train.append(np.mean(train_accuracies))\n",
        "          all_loss_train.append(loss)\n",
        "          #wandb.log({\"train acc\": train_accuracies[-1]})\n",
        "          # Evaluate the model on the test set\n",
        "          model.eval()\n",
        "          test_loss = 0\n",
        "          correct = 0\n",
        "          sample_eval = 0\n",
        "          test_acc_list = []\n",
        "          with torch.no_grad():\n",
        "              for data, target in test_loader:\n",
        "                  data, target = data.to(device), target.to(device)\n",
        "                  output = model(data)\n",
        "                  test_loss += nn.functional.binary_cross_entropy(output, target).item()\n",
        "                  pred = output.round().cpu().detach().numpy()\n",
        "                  target = target.cpu().numpy()\n",
        "                  acc = metrics.accuracy_score(target,pred)\n",
        "                  test_acc_list.append(acc)#torch.mean(acc).item()\n",
        "                  sample_eval+= target.shape[0]\n",
        "              wandb.log({\"test acc\": np.mean(test_acc_list)}) #\"test loss\": loss})\n",
        "\n",
        "      print(all_accs_train[-1])\n",
        "          #scheduler1.step()\n",
        "          #print(scheduler1.get_last_lr())\n",
        "\n",
        "      test_loss /= sample_eval\n",
        "      accuracy = np.mean(test_acc_list)\n",
        "      print(f\"Test set: Average loss: {test_loss:.4f}, Accuracy: ({accuracy:.2f}%)\\n\")\n",
        "       # Mark the run as finished\n",
        "wandb.finish()"
      ]
    },
    {
      "cell_type": "code",
      "source": [
        "import sklearn.metrics\n",
        "import seaborn as sns\n",
        "\n",
        "def confusion_matrix(model, test_loader):\n",
        "    preds = []\n",
        "    targets = []\n",
        "    clean_targets = []\n",
        "    clean_preds = []\n",
        "    with torch.no_grad():\n",
        "      for data, target in test_loader:\n",
        "          data, target = data.to(device), target.to(device)\n",
        "          output = model(data)\n",
        "          #test_loss += nn.functional.binary_cross_entropy(output, target).item()\n",
        "          pred = output.round().cpu().detach().numpy()\n",
        "          target = target.cpu().numpy()\n",
        "          acc = metrics.accuracy_score(target,pred)\n",
        "          preds.append(pred)\n",
        "          targets.append(target)\n",
        "          #test_acc_list.append(acc)#torch.mean(acc).item()\n",
        "          #sample_eval+= target.shape[0]\n",
        "      for i in targets:\n",
        "        for y in i:\n",
        "          clean_targets.append(y[0])\n",
        "      for x in preds:\n",
        "        for z in x:\n",
        "          clean_preds.append(z[0])\n",
        "\n",
        "      cf_matrix = sklearn.metrics.confusion_matrix(clean_targets, clean_preds)\n",
        "      labels = ['True Neg','False Pos','False Neg','True Pos']\n",
        "      labels = np.asarray(labels).reshape(2,2)\n",
        "      #sns.heatmap(cf_matrix, annot=labels, fmt='', cmap='Blues')\n",
        "      sns.heatmap(cf_matrix/np.sum(cf_matrix), annot=True,\n",
        "      fmt='.2%', cmap='Blues')\n",
        "confusion_matrix(model,test_loader)\n",
        "\n",
        "\n",
        "#test_idx_list"
      ],
      "metadata": {
        "colab": {
          "base_uri": "https://localhost:8080/",
          "height": 430
        },
        "id": "a5XnXP_c7u4T",
        "outputId": "85ff7a43-3961-43b1-f3fe-19194ca52e2b"
      },
      "execution_count": null,
      "outputs": [
        {
          "output_type": "display_data",
          "data": {
            "text/plain": [
              "<Figure size 640x480 with 2 Axes>"
            ],
            "image/png": "[encoded data removed]"
          },
          "metadata": {}
        }
      ]
    },
    {
      "cell_type": "markdown",
      "source": [
        "### Inter subject generalizability"
      ],
      "metadata": {
        "id": "X3yBNp9f67EO"
      }
    },
    {
      "cell_type": "code",
      "source": [
        "wandb.init(\n",
        "    # set the wandb project where this run will be logged\n",
        "    project=\"CNN EEG BASELINE\",\n",
        "\n",
        "    # track hyperparameters and run metadata\n",
        "    config={\n",
        "    \"learning_rate\": 0.001,\n",
        "    \"architecture\": \"shallow cnn new labels 8\",\n",
        "    \"dataset\": \"EEG\",\n",
        "    \"epochs\": 500,\n",
        "    }\n",
        ")"
      ],
      "metadata": {
        "colab": {
          "base_uri": "https://localhost:8080/",
          "height": 419,
          "referenced_widgets": [
            "61a031723e8248328666bb53decae5a7",
            "606e2cc936cf43d880ae4d7b80384c72",
            "6c7efdfbe5564059b86d7d1c80533124",
            "4c7264cb9ed247c9bbabdb2e553efe28",
            "a5437701344547d0b36eb6367ce66704",
            "7fa7d4a810e94315b683772f18aca22a",
            "822b9abf108c41b4af1965c21d9ee5b1",
            "b122b0ae6faf43158dfd97a65e878473"
          ]
        },
        "id": "8AFxK0q27jZo",
        "outputId": "b827a457-47b3-49df-af9c-9b105ea5ea8f"
      },
      "execution_count": null,
      "outputs": [
        {
          "output_type": "display_data",
          "data": {
            "text/plain": [
              "<IPython.core.display.HTML object>"
            ],
            "text/html": [
              "Finishing last run (ID:s7dno53g) before initializing another..."
            ]
          },
          "metadata": {}
        },
        {
          "output_type": "display_data",
          "data": {
            "text/plain": [
              "VBox(children=(Label(value='0.001 MB of 0.001 MB uploaded\\r'), FloatProgress(value=1.0, max=1.0)))"
            ],
            "application/vnd.jupyter.widget-view+json": {
              "version_major": 2,
              "version_minor": 0,
              "model_id": "61a031723e8248328666bb53decae5a7"
            }
          },
          "metadata": {}
        },
        {
          "output_type": "display_data",
          "data": {
            "text/plain": [
              "<IPython.core.display.HTML object>"
            ],
            "text/html": [
              "<style>\n",
              "    table.wandb td:nth-child(1) { padding: 0 10px; text-align: left ; width: auto;} td:nth-child(2) {text-align: left ; width: 100%}\n",
              "    .wandb-row { display: flex; flex-direction: row; flex-wrap: wrap; justify-content: flex-start; width: 100% }\n",
              "    .wandb-col { display: flex; flex-direction: column; flex-basis: 100%; flex: 1; padding: 10px; }\n",
              "    </style>\n",
              "<div class=\"wandb-row\"><div class=\"wandb-col\"><h3>Run history:</h3><br/><table class=\"wandb\"><tr><td>test acc</td><td>██▆▆▆▁▇▆▆▃▅▃▃▄▂▃▅▄▃▆▄▄▄▃▃▃▃▃▄▅▅▄▁▄█▆▅▂▃▂</td></tr><tr><td>train epoch acc</td><td>█▇█▂▂▃▂▁▂▂▂▂▁▂▁▃▂▂▃▃▂▂▃▂▃▁▂▃▃▄▂▁▃▃▁▂▃▂▃▂</td></tr></table><br/></div><div class=\"wandb-col\"><h3>Run summary:</h3><br/><table class=\"wandb\"><tr><td>test acc</td><td>0.4625</td></tr><tr><td>train epoch acc</td><td>0.49428</td></tr></table><br/></div></div>"
            ]
          },
          "metadata": {}
        },
        {
          "output_type": "display_data",
          "data": {
            "text/plain": [
              "<IPython.core.display.HTML object>"
            ],
            "text/html": [
              " View run <strong style=\"color:#cdcd00\">solar-fog-35</strong> at: <a href='https://wandb.ai/kaspargesll/CNN%20EEG%20BASELINE/runs/s7dno53g' target=\"_blank\">https://wandb.ai/kaspargesll/CNN%20EEG%20BASELINE/runs/s7dno53g</a><br/> View project at: <a href='https://wandb.ai/kaspargesll/CNN%20EEG%20BASELINE' target=\"_blank\">https://wandb.ai/kaspargesll/CNN%20EEG%20BASELINE</a><br/>Synced 5 W&B file(s), 0 media file(s), 0 artifact file(s) and 0 other file(s)"
            ]
          },
          "metadata": {}
        },
        {
          "output_type": "display_data",
          "data": {
            "text/plain": [
              "<IPython.core.display.HTML object>"
            ],
            "text/html": [
              "Find logs at: <code>./wandb/run-20240506_124656-s7dno53g/logs</code>"
            ]
          },
          "metadata": {}
        },
        {
          "output_type": "display_data",
          "data": {
            "text/plain": [
              "<IPython.core.display.HTML object>"
            ],
            "text/html": [
              "Successfully finished last run (ID:s7dno53g). Initializing new run:<br/>"
            ]
          },
          "metadata": {}
        },
        {
          "output_type": "display_data",
          "data": {
            "text/plain": [
              "<IPython.core.display.HTML object>"
            ],
            "text/html": [
              "Tracking run with wandb version 0.16.6"
            ]
          },
          "metadata": {}
        },
        {
          "output_type": "display_data",
          "data": {
            "text/plain": [
              "<IPython.core.display.HTML object>"
            ],
            "text/html": [
              "Run data is saved locally in <code>/content/wandb/run-20240506_131439-u27wqotr</code>"
            ]
          },
          "metadata": {}
        },
        {
          "output_type": "display_data",
          "data": {
            "text/plain": [
              "<IPython.core.display.HTML object>"
            ],
            "text/html": [
              "Syncing run <strong><a href='https://wandb.ai/kaspargesll/CNN%20EEG%20BASELINE/runs/u27wqotr' target=\"_blank\">fancy-rain-36</a></strong> to <a href='https://wandb.ai/kaspargesll/CNN%20EEG%20BASELINE' target=\"_blank\">Weights & Biases</a> (<a href='https://wandb.me/run' target=\"_blank\">docs</a>)<br/>"
            ]
          },
          "metadata": {}
        },
        {
          "output_type": "display_data",
          "data": {
            "text/plain": [
              "<IPython.core.display.HTML object>"
            ],
            "text/html": [
              " View project at <a href='https://wandb.ai/kaspargesll/CNN%20EEG%20BASELINE' target=\"_blank\">https://wandb.ai/kaspargesll/CNN%20EEG%20BASELINE</a>"
            ]
          },
          "metadata": {}
        },
        {
          "output_type": "display_data",
          "data": {
            "text/plain": [
              "<IPython.core.display.HTML object>"
            ],
            "text/html": [
              " View run at <a href='https://wandb.ai/kaspargesll/CNN%20EEG%20BASELINE/runs/u27wqotr' target=\"_blank\">https://wandb.ai/kaspargesll/CNN%20EEG%20BASELINE/runs/u27wqotr</a>"
            ]
          },
          "metadata": {}
        },
        {
          "output_type": "execute_result",
          "data": {
            "text/html": [
              "<button onClick=\"this.nextSibling.style.display='block';this.style.display='none';\">Display W&B run</button><iframe src='https://wandb.ai/kaspargesll/CNN%20EEG%20BASELINE/runs/u27wqotr?jupyter=true' style='border:none;width:100%;height:420px;display:none;'></iframe>"
            ],
            "text/plain": [
              "<wandb.sdk.wandb_run.Run at 0x7ca7e2bb1ba0>"
            ]
          },
          "metadata": {},
          "execution_count": 59
        }
      ]
    },
    {
      "cell_type": "code",
      "source": [
        "# Define the number of folds and batch size\n",
        "#k_folds = 2\n",
        "batch_size = 64\n",
        "\n",
        "#rs = ShuffleSplit(n_splits=1, test_size=.1)\n",
        "# Loop through each fold\n",
        "test_idx_list = []\n",
        "for fold, (train_idx, test_idx) in enumerate(zip([np.array([np.int64(i) for i in range(2592)])], [np.array([np.int64(i) for i in range(2592,2880)])])):\n",
        "    test_idx_list.append(test_idx)\n",
        "    #print(len(train_idx), len(test_idx), train_idx, test_idx)\n",
        "    print(f\"Fold {fold + 1}\")\n",
        "    print(\"-------\")\n",
        "    all_accs_train = []\n",
        "    all_loss_train = []\n",
        "    # Define the data loaders for the current fold\n",
        "    train_loader = DataLoader(\n",
        "        dataset=eeg_PSD_dataset,\n",
        "        batch_size=batch_size,\n",
        "        sampler=torch.utils.data.SubsetRandomSampler(train_idx),\n",
        "    )\n",
        "\n",
        "    test_loader = DataLoader(\n",
        "        dataset=eeg_PSD_dataset,\n",
        "        batch_size=batch_size,\n",
        "        sampler=torch.utils.data.SubsetRandomSampler(test_idx),\n",
        "    )\n",
        "\n",
        "    # Initialize the model and optimizer\n",
        "    model_inter = Net().to(device)\n",
        "    optimizer = optim.Adam(model_inter.parameters(), lr=0.001, weight_decay=1e-5) #betas=(0.5, 0.99))\n",
        "    #scheduler1 = torch.optim.lr_scheduler.StepLR(optimizer, step_size = 200, gamma = 0.5)\n",
        "\n",
        "    # Train the model on the current fold\n",
        "    for i in range(30):\n",
        "      for epoch in tqdm(range(1, 30)):\n",
        "          train_accuracies, loss = train(model, device, train_loader, optimizer, epoch)\n",
        "          all_accs_train.append(np.mean(train_accuracies))\n",
        "          all_loss_train.append(loss)\n",
        "          #wandb.log({\"train acc\": train_accuracies[-1]})\n",
        "          # Evaluate the model on the test set\n",
        "          model_inter.eval()\n",
        "          test_loss = 0\n",
        "          correct = 0\n",
        "          sample_eval = 0\n",
        "          test_acc_list = []\n",
        "          with torch.no_grad():\n",
        "              for data, target in test_loader:\n",
        "                  data, target = data.to(device), target.to(device)\n",
        "                  output = model(data)\n",
        "                  test_loss += nn.functional.binary_cross_entropy(output, target).item()\n",
        "                  pred = output.round().cpu().detach().numpy()\n",
        "                  target = target.cpu().numpy()\n",
        "                  acc = metrics.accuracy_score(target,pred)\n",
        "                  test_acc_list.append(acc)#torch.mean(acc).item()\n",
        "                  sample_eval+= target.shape[0]\n",
        "              wandb.log({\"test acc\": np.mean(test_acc_list)}) #\"test loss\": loss})\n",
        "\n",
        "      print(all_accs_train[-1])\n",
        "          #scheduler1.step()\n",
        "          #print(scheduler1.get_last_lr())\n",
        "\n",
        "      test_loss /= sample_eval\n",
        "      accuracy = np.mean(test_acc_list)\n",
        "      print(f\"Test set: Average loss: {test_loss:.4f}, Accuracy: ({accuracy:.2f}%)\\n\")\n",
        "       # Mark the run as finished\n",
        "wandb.finish()"
      ],
      "metadata": {
        "colab": {
          "base_uri": "https://localhost:8080/",
          "height": 1000,
          "referenced_widgets": [
            "6978ccb19bf84d61984a8a9441a1669c",
            "fb814ded76714c3d95d5e4c1824dd182",
            "77af7d0fe1954249bc4d2681d057b15a",
            "1fb0bc6b515f461aa5c8e309812095ee",
            "1530535c855142e8b903a95c52c0760d",
            "cc7a664441b94d2689a29e9bf44d6e19",
            "68da271048a54e69a040ba44fd2d7cba",
            "428d94d538d14d71a1b89c54137cd233"
          ]
        },
        "id": "Vx7a6sSm6-C5",
        "outputId": "8a8543ab-26ac-4415-e772-ceb38c6d73d0"
      },
      "execution_count": null,
      "outputs": [
        {
          "output_type": "stream",
          "name": "stdout",
          "text": [
            "Fold 1\n",
            "-------\n"
          ]
        },
        {
          "output_type": "stream",
          "name": "stderr",
          "text": [
            "100%|██████████| 29/29 [00:09<00:00,  2.98it/s]\n"
          ]
        },
        {
          "output_type": "stream",
          "name": "stdout",
          "text": [
            "0.504954268292683\n",
            "Test set: Average loss: 0.0121, Accuracy: (0.46%)\n",
            "\n"
          ]
        },
        {
          "output_type": "stream",
          "name": "stderr",
          "text": [
            "100%|██████████| 29/29 [00:07<00:00,  3.86it/s]\n"
          ]
        },
        {
          "output_type": "stream",
          "name": "stdout",
          "text": [
            "0.5015243902439024\n",
            "Test set: Average loss: 0.0121, Accuracy: (0.52%)\n",
            "\n"
          ]
        },
        {
          "output_type": "stream",
          "name": "stderr",
          "text": [
            "100%|██████████| 29/29 [00:07<00:00,  4.05it/s]\n"
          ]
        },
        {
          "output_type": "stream",
          "name": "stdout",
          "text": [
            "0.49809451219512196\n",
            "Test set: Average loss: 0.0120, Accuracy: (0.51%)\n",
            "\n"
          ]
        },
        {
          "output_type": "stream",
          "name": "stderr",
          "text": [
            "100%|██████████| 29/29 [00:07<00:00,  3.97it/s]\n"
          ]
        },
        {
          "output_type": "stream",
          "name": "stdout",
          "text": [
            "0.5053353658536586\n",
            "Test set: Average loss: 0.0121, Accuracy: (0.47%)\n",
            "\n"
          ]
        },
        {
          "output_type": "stream",
          "name": "stderr",
          "text": [
            "100%|██████████| 29/29 [00:07<00:00,  3.86it/s]\n"
          ]
        },
        {
          "output_type": "stream",
          "name": "stdout",
          "text": [
            "0.49390243902439024\n",
            "Test set: Average loss: 0.0121, Accuracy: (0.49%)\n",
            "\n"
          ]
        },
        {
          "output_type": "stream",
          "name": "stderr",
          "text": [
            "100%|██████████| 29/29 [00:06<00:00,  4.22it/s]\n"
          ]
        },
        {
          "output_type": "stream",
          "name": "stdout",
          "text": [
            "0.5034298780487805\n",
            "Test set: Average loss: 0.0121, Accuracy: (0.46%)\n",
            "\n"
          ]
        },
        {
          "output_type": "stream",
          "name": "stderr",
          "text": [
            "100%|██████████| 29/29 [00:07<00:00,  3.86it/s]\n"
          ]
        },
        {
          "output_type": "stream",
          "name": "stdout",
          "text": [
            "0.4961890243902439\n",
            "Test set: Average loss: 0.0120, Accuracy: (0.51%)\n",
            "\n"
          ]
        },
        {
          "output_type": "stream",
          "name": "stderr",
          "text": [
            "100%|██████████| 29/29 [00:06<00:00,  4.19it/s]\n"
          ]
        },
        {
          "output_type": "stream",
          "name": "stdout",
          "text": [
            "0.48551829268292684\n",
            "Test set: Average loss: 0.0120, Accuracy: (0.51%)\n",
            "\n"
          ]
        },
        {
          "output_type": "stream",
          "name": "stderr",
          "text": [
            "100%|██████████| 29/29 [00:07<00:00,  3.97it/s]\n"
          ]
        },
        {
          "output_type": "stream",
          "name": "stdout",
          "text": [
            "0.49390243902439024\n",
            "Test set: Average loss: 0.0120, Accuracy: (0.50%)\n",
            "\n"
          ]
        },
        {
          "output_type": "stream",
          "name": "stderr",
          "text": [
            "100%|██████████| 29/29 [00:08<00:00,  3.28it/s]\n"
          ]
        },
        {
          "output_type": "stream",
          "name": "stdout",
          "text": [
            "0.5118140243902439\n",
            "Test set: Average loss: 0.0121, Accuracy: (0.48%)\n",
            "\n"
          ]
        },
        {
          "output_type": "stream",
          "name": "stderr",
          "text": [
            "100%|██████████| 29/29 [00:09<00:00,  3.13it/s]\n"
          ]
        },
        {
          "output_type": "stream",
          "name": "stdout",
          "text": [
            "0.504954268292683\n",
            "Test set: Average loss: 0.0121, Accuracy: (0.51%)\n",
            "\n"
          ]
        },
        {
          "output_type": "stream",
          "name": "stderr",
          "text": [
            "100%|██████████| 29/29 [00:07<00:00,  3.96it/s]\n"
          ]
        },
        {
          "output_type": "stream",
          "name": "stdout",
          "text": [
            "0.5026676829268293\n",
            "Test set: Average loss: 0.0120, Accuracy: (0.50%)\n",
            "\n"
          ]
        },
        {
          "output_type": "stream",
          "name": "stderr",
          "text": [
            "100%|██████████| 29/29 [00:07<00:00,  3.93it/s]\n"
          ]
        },
        {
          "output_type": "stream",
          "name": "stdout",
          "text": [
            "0.510670731707317\n",
            "Test set: Average loss: 0.0120, Accuracy: (0.52%)\n",
            "\n"
          ]
        },
        {
          "output_type": "stream",
          "name": "stderr",
          "text": [
            "100%|██████████| 29/29 [00:06<00:00,  4.22it/s]\n"
          ]
        },
        {
          "output_type": "stream",
          "name": "stdout",
          "text": [
            "0.4958079268292683\n",
            "Test set: Average loss: 0.0120, Accuracy: (0.51%)\n",
            "\n"
          ]
        },
        {
          "output_type": "stream",
          "name": "stderr",
          "text": [
            "100%|██████████| 29/29 [00:07<00:00,  3.86it/s]\n"
          ]
        },
        {
          "output_type": "stream",
          "name": "stdout",
          "text": [
            "0.4916158536585366\n",
            "Test set: Average loss: 0.0121, Accuracy: (0.48%)\n",
            "\n"
          ]
        },
        {
          "output_type": "stream",
          "name": "stderr",
          "text": [
            "100%|██████████| 29/29 [00:06<00:00,  4.25it/s]\n"
          ]
        },
        {
          "output_type": "stream",
          "name": "stdout",
          "text": [
            "0.5045731707317073\n",
            "Test set: Average loss: 0.0120, Accuracy: (0.49%)\n",
            "\n"
          ]
        },
        {
          "output_type": "stream",
          "name": "stderr",
          "text": [
            "100%|██████████| 29/29 [00:07<00:00,  3.88it/s]\n"
          ]
        },
        {
          "output_type": "stream",
          "name": "stdout",
          "text": [
            "0.4885670731707317\n",
            "Test set: Average loss: 0.0120, Accuracy: (0.51%)\n",
            "\n"
          ]
        },
        {
          "output_type": "stream",
          "name": "stderr",
          "text": [
            "100%|██████████| 29/29 [00:07<00:00,  3.90it/s]\n"
          ]
        },
        {
          "output_type": "stream",
          "name": "stdout",
          "text": [
            "0.5072408536585366\n",
            "Test set: Average loss: 0.0121, Accuracy: (0.44%)\n",
            "\n"
          ]
        },
        {
          "output_type": "stream",
          "name": "stderr",
          "text": [
            "100%|██████████| 29/29 [00:07<00:00,  4.07it/s]\n"
          ]
        },
        {
          "output_type": "stream",
          "name": "stdout",
          "text": [
            "0.4847560975609756\n",
            "Test set: Average loss: 0.0120, Accuracy: (0.52%)\n",
            "\n"
          ]
        },
        {
          "output_type": "stream",
          "name": "stderr",
          "text": [
            "100%|██████████| 29/29 [00:07<00:00,  3.89it/s]\n"
          ]
        },
        {
          "output_type": "stream",
          "name": "stdout",
          "text": [
            "0.4969512195121951\n",
            "Test set: Average loss: 0.0121, Accuracy: (0.49%)\n",
            "\n"
          ]
        },
        {
          "output_type": "stream",
          "name": "stderr",
          "text": [
            "100%|██████████| 29/29 [00:06<00:00,  4.27it/s]\n"
          ]
        },
        {
          "output_type": "stream",
          "name": "stdout",
          "text": [
            "0.4992378048780488\n",
            "Test set: Average loss: 0.0120, Accuracy: (0.54%)\n",
            "\n"
          ]
        },
        {
          "output_type": "stream",
          "name": "stderr",
          "text": [
            "100%|██████████| 29/29 [00:07<00:00,  3.91it/s]\n"
          ]
        },
        {
          "output_type": "stream",
          "name": "stdout",
          "text": [
            "0.4927591463414634\n",
            "Test set: Average loss: 0.0120, Accuracy: (0.50%)\n",
            "\n"
          ]
        },
        {
          "output_type": "stream",
          "name": "stderr",
          "text": [
            "100%|██████████| 29/29 [00:07<00:00,  3.81it/s]\n"
          ]
        },
        {
          "output_type": "stream",
          "name": "stdout",
          "text": [
            "0.4950457317073171\n",
            "Test set: Average loss: 0.0121, Accuracy: (0.49%)\n",
            "\n"
          ]
        },
        {
          "output_type": "stream",
          "name": "stderr",
          "text": [
            "100%|██████████| 29/29 [00:06<00:00,  4.18it/s]\n"
          ]
        },
        {
          "output_type": "stream",
          "name": "stdout",
          "text": [
            "0.5003810975609756\n",
            "Test set: Average loss: 0.0120, Accuracy: (0.47%)\n",
            "\n"
          ]
        },
        {
          "output_type": "stream",
          "name": "stderr",
          "text": [
            "100%|██████████| 29/29 [00:07<00:00,  3.86it/s]\n"
          ]
        },
        {
          "output_type": "stream",
          "name": "stdout",
          "text": [
            "0.4881859756097561\n",
            "Test set: Average loss: 0.0120, Accuracy: (0.49%)\n",
            "\n"
          ]
        },
        {
          "output_type": "stream",
          "name": "stderr",
          "text": [
            "100%|██████████| 29/29 [00:06<00:00,  4.24it/s]\n"
          ]
        },
        {
          "output_type": "stream",
          "name": "stdout",
          "text": [
            "0.49847560975609756\n",
            "Test set: Average loss: 0.0120, Accuracy: (0.52%)\n",
            "\n"
          ]
        },
        {
          "output_type": "stream",
          "name": "stderr",
          "text": [
            "100%|██████████| 29/29 [00:07<00:00,  3.86it/s]\n"
          ]
        },
        {
          "output_type": "stream",
          "name": "stdout",
          "text": [
            "0.49009146341463417\n",
            "Test set: Average loss: 0.0121, Accuracy: (0.46%)\n",
            "\n"
          ]
        },
        {
          "output_type": "stream",
          "name": "stderr",
          "text": [
            "100%|██████████| 29/29 [00:07<00:00,  4.00it/s]\n"
          ]
        },
        {
          "output_type": "stream",
          "name": "stdout",
          "text": [
            "0.5030487804878049\n",
            "Test set: Average loss: 0.0121, Accuracy: (0.48%)\n",
            "\n"
          ]
        },
        {
          "output_type": "stream",
          "name": "stderr",
          "text": [
            "100%|██████████| 29/29 [00:07<00:00,  3.69it/s]\n"
          ]
        },
        {
          "output_type": "stream",
          "name": "stdout",
          "text": [
            "0.4946646341463415\n",
            "Test set: Average loss: 0.0121, Accuracy: (0.51%)\n",
            "\n"
          ]
        },
        {
          "output_type": "stream",
          "name": "stderr",
          "text": [
            "100%|██████████| 29/29 [00:07<00:00,  3.91it/s]\n"
          ]
        },
        {
          "output_type": "stream",
          "name": "stdout",
          "text": [
            "0.4954268292682927\n",
            "Test set: Average loss: 0.0120, Accuracy: (0.50%)\n",
            "\n"
          ]
        },
        {
          "output_type": "display_data",
          "data": {
            "text/plain": [
              "VBox(children=(Label(value='0.001 MB of 0.001 MB uploaded\\r'), FloatProgress(value=1.0, max=1.0)))"
            ],
            "application/vnd.jupyter.widget-view+json": {
              "version_major": 2,
              "version_minor": 0,
              "model_id": "6978ccb19bf84d61984a8a9441a1669c"
            }
          },
          "metadata": {}
        },
        {
          "output_type": "display_data",
          "data": {
            "text/plain": [
              "<IPython.core.display.HTML object>"
            ],
            "text/html": [
              "<style>\n",
              "    table.wandb td:nth-child(1) { padding: 0 10px; text-align: left ; width: auto;} td:nth-child(2) {text-align: left ; width: 100%}\n",
              "    .wandb-row { display: flex; flex-direction: row; flex-wrap: wrap; justify-content: flex-start; width: 100% }\n",
              "    .wandb-col { display: flex; flex-direction: column; flex-basis: 100%; flex: 1; padding: 10px; }\n",
              "    </style>\n",
              "<div class=\"wandb-row\"><div class=\"wandb-col\"><h3>Run history:</h3><br/><table class=\"wandb\"><tr><td>test acc</td><td>▆▇▂▅▅▅▄▁▆▆▅▄█▅▃▅▄▄▄▂▃▄██▅▃▄▅▇█▂▆▃▃▆▃▆▄▃▄</td></tr><tr><td>train epoch acc</td><td>▅██▁▂▆▇▆▅▅▄▆▂▄▅▄▅▁▄▆▅▆▅▂▃▅▆▄▆▄▂▄▆▄▅▃▄█▅▄</td></tr></table><br/></div><div class=\"wandb-col\"><h3>Run summary:</h3><br/><table class=\"wandb\"><tr><td>test acc</td><td>0.5</td></tr><tr><td>train epoch acc</td><td>0.49543</td></tr></table><br/></div></div>"
            ]
          },
          "metadata": {}
        },
        {
          "output_type": "display_data",
          "data": {
            "text/plain": [
              "<IPython.core.display.HTML object>"
            ],
            "text/html": [
              " View run <strong style=\"color:#cdcd00\">fancy-rain-36</strong> at: <a href='https://wandb.ai/kaspargesll/CNN%20EEG%20BASELINE/runs/u27wqotr' target=\"_blank\">https://wandb.ai/kaspargesll/CNN%20EEG%20BASELINE/runs/u27wqotr</a><br/> View project at: <a href='https://wandb.ai/kaspargesll/CNN%20EEG%20BASELINE' target=\"_blank\">https://wandb.ai/kaspargesll/CNN%20EEG%20BASELINE</a><br/>Synced 5 W&B file(s), 0 media file(s), 0 artifact file(s) and 0 other file(s)"
            ]
          },
          "metadata": {}
        },
        {
          "output_type": "display_data",
          "data": {
            "text/plain": [
              "<IPython.core.display.HTML object>"
            ],
            "text/html": [
              "Find logs at: <code>./wandb/run-20240506_131439-u27wqotr/logs</code>"
            ]
          },
          "metadata": {}
        }
      ]
    },
    {
      "cell_type": "code",
      "source": [
        "import sklearn.metrics\n",
        "import seaborn as sns\n",
        "\n",
        "def confusion_matrix(model, test_loader):\n",
        "    preds = []\n",
        "    targets = []\n",
        "    clean_targets = []\n",
        "    clean_preds = []\n",
        "    with torch.no_grad():\n",
        "      for data, target in test_loader:\n",
        "          data, target = data.to(device), target.to(device)\n",
        "          output = model(data)\n",
        "          #test_loss += nn.functional.binary_cross_entropy(output, target).item()\n",
        "          pred = output.round().cpu().detach().numpy()\n",
        "          target = target.cpu().numpy()\n",
        "          acc = metrics.accuracy_score(target,pred)\n",
        "          preds.append(pred)\n",
        "          targets.append(target)\n",
        "          #test_acc_list.append(acc)#torch.mean(acc).item()\n",
        "          #sample_eval+= target.shape[0]\n",
        "      for i in targets:\n",
        "        for y in i:\n",
        "          clean_targets.append(y[0])\n",
        "      for x in preds:\n",
        "        for z in x:\n",
        "          clean_preds.append(z[0])\n",
        "\n",
        "      cf_matrix = sklearn.metrics.confusion_matrix(clean_targets, clean_preds)\n",
        "      labels = ['True Neg','False Pos','False Neg','True Pos']\n",
        "      labels = np.asarray(labels).reshape(2,2)\n",
        "      #sns.heatmap(cf_matrix, annot=labels, fmt='', cmap='Blues')\n",
        "      sns.heatmap(cf_matrix/np.sum(cf_matrix), annot=True,\n",
        "      fmt='.2%', cmap='Blues')\n",
        "confusion_matrix(model_inter,test_loader)\n",
        "\n",
        "\n",
        "#test_idx_list"
      ],
      "metadata": {
        "colab": {
          "base_uri": "https://localhost:8080/",
          "height": 435
        },
        "id": "VNqKpimcmbZe",
        "outputId": "0f5a8550-c649-41b9-de85-0e837d327169"
      },
      "execution_count": null,
      "outputs": [
        {
          "output_type": "display_data",
          "data": {
            "text/plain": [
              "<Figure size 640x480 with 2 Axes>"
            ],
            "image/png": "[encoded data removed]"
          },
          "metadata": {}
        }
      ]
    },
    {
      "cell_type": "markdown",
      "metadata": {
        "id": "rxoC9xg5cf36"
      },
      "source": [
        "### Spatial GNN"
      ]
    },
    {
      "cell_type": "code",
      "execution_count": null,
      "metadata": {
        "id": "c8_cP2WlKIdH"
      },
      "outputs": [],
      "source": [
        "!pip install torch-geometric\n",
        "!pip install tensorboardX"
      ]
    },
    {
      "cell_type": "code",
      "execution_count": null,
      "metadata": {
        "id": "8dRqaIjVchOC"
      },
      "outputs": [],
      "source": [
        "import torch_geometric.nn as pyg_nn\n",
        "import torch_geometric.utils as pyg_utils\n",
        "import torch_geometric.transforms as T\n",
        "from torch_geometric.data import DataLoader\n",
        "from torch_geometric.data import Data\n",
        "import itertools\n",
        "from tensorboardX import SummaryWriter\n",
        "from datetime import datetime"
      ]
    },
    {
      "cell_type": "markdown",
      "metadata": {
        "id": "4kthI9ztPYRc"
      },
      "source": [
        "Inspiration: https://www.youtube.com/watch?v=-UjytpbqX4A&ab_channel=LindseyAI"
      ]
    },
    {
      "cell_type": "code",
      "execution_count": null,
      "metadata": {
        "id": "jAQOj-lvFYT9"
      },
      "outputs": [],
      "source": [
        "class GNNStack(nn.Module):\n",
        "    def __init__(self, input_dim, hidden_dim, output_dim, task='node'):\n",
        "        super(GNNStack, self).__init__()\n",
        "        self.task = task\n",
        "        self.convs = nn.ModuleList()\n",
        "        self.convs.append(self.build_conv_model(input_dim, hidden_dim))\n",
        "        self.lns = nn.ModuleList()\n",
        "        self.lns.append(nn.LayerNorm(hidden_dim))\n",
        "        self.lns.append(nn.LayerNorm(hidden_dim))\n",
        "        for l in range(2):\n",
        "          self.convs.append(self.build_conv_model(hidden_dim, hidden_dim))\n",
        "\n",
        "        # post-message-passing\n",
        "        self.post_mp = nn.Sequential(\n",
        "            nn.BatchNorm1d(hidden_dim),\n",
        "            nn.Linear(hidden_dim, 100),\n",
        "            nn.Dropout(0.1),\n",
        "            nn.BatchNorm1d(100),\n",
        "            nn.Linear(100, hidden_dim),nn.Dropout(0.1),\n",
        "            nn.Linear(hidden_dim, output_dim))\n",
        "        if not (self.task == 'node' or self.task == 'graph'):\n",
        "            raise RuntimeError('Unknown task.')\n",
        "\n",
        "        self.dropout = 0.1\n",
        "        self.num_layers = 3\n",
        "\n",
        "    def build_conv_model(self, input_dim, hidden_dim):\n",
        "        # refer to pytorch geometric nn module for different implementation of GNNs.\n",
        "        if self.task == 'node':\n",
        "            return pyg_nn.GCNConv(input_dim, hidden_dim)\n",
        "        else:\n",
        "            return pyg_nn.GINConv(nn.Sequential(nn.Linear(input_dim, hidden_dim),\n",
        "                                  nn.ReLU(), nn.Linear(hidden_dim, hidden_dim)))\n",
        "\n",
        "    def forward(self, data):\n",
        "        x, edge_index, batch = data.x, data.edge_index, data.batch\n",
        "        if data.num_node_features == 0:\n",
        "          x = torch.ones(data.num_nodes, 1)\n",
        "\n",
        "        for i in range(self.num_layers):\n",
        "            x = self.convs[i](x, edge_index)\n",
        "            emb = x\n",
        "            x = F.relu(x)\n",
        "            x = F.dropout(x, p=self.dropout, training=self.training)\n",
        "            if not i == self.num_layers - 1:\n",
        "                x = self.lns[i](x)\n",
        "\n",
        "        if self.task == 'graph':\n",
        "            x = pyg_nn.global_mean_pool(x, batch)\n",
        "        x = self.post_mp(x)\n",
        "\n",
        "        return emb, F.sigmoid(x)\n",
        "\n",
        "    def loss(self, pred, label):\n",
        "        label = label.unsqueeze(1)\n",
        "        return F.binary_cross_entropy(pred.float(), label.float())"
      ]
    },
    {
      "cell_type": "code",
      "execution_count": null,
      "metadata": {
        "id": "tMqSErLNKN2u"
      },
      "outputs": [],
      "source": [
        "def train(dataset, task, writer):\n",
        "    if task == 'graph':\n",
        "        data_size = len(dataset)\n",
        "        loader = DataLoader(dataset[:int(data_size * 0.9)], batch_size=32, shuffle=True)\n",
        "        test_loader = DataLoader(dataset[int(data_size * 0.9):], batch_size=32, shuffle=True)\n",
        "    else:\n",
        "        test_loader = loader = DataLoader(dataset, batch_size=32, shuffle=True)\n",
        "\n",
        "    # build model\n",
        "    model = GNNStack(max(30, 1), 32, 1, task=task)\n",
        "    opt = optim.Adam(model.parameters(), lr=0.0001)\n",
        "\n",
        "    # train\n",
        "    for epoch in range(900):\n",
        "        total_loss = 0\n",
        "        model.train()\n",
        "        correct = 0\n",
        "        size = 0\n",
        "        for batch in loader:\n",
        "            #print(batch.train_mask, '----')\n",
        "            opt.zero_grad()\n",
        "            embedding, pred = model(batch)\n",
        "            label = batch.y\n",
        "            if task == 'node':\n",
        "                pred = pred[batch.train_mask]\n",
        "                label = label[batch.train_mask]\n",
        "            pred_labels = torch.Tensor(pred.round()).squeeze(1)\n",
        "            correct += pred_labels.eq(label).sum().item()\n",
        "            size += pred_labels.shape[0]\n",
        "            loss = model.loss(pred, label)\n",
        "            loss.backward()\n",
        "            opt.step()\n",
        "            total_loss += loss.item() * batch.num_graphs\n",
        "        total_loss /= len(loader.dataset)\n",
        "        wandb.log({\"train acc\": (correct/size) * 100})\n",
        "        #writer.add_scalar(\"loss\", total_loss, epoch)\n",
        "        #print('train acc ', correct/size)\n",
        "        if epoch % 10 == 0:\n",
        "            test_acc = test(test_loader, model)\n",
        "            print(\"Epoch {}. Loss: {:.4f}. Test accuracy: {:.4f}\".format(\n",
        "                epoch, total_loss, test_acc))\n",
        "            #writer.add_scalar(\"test accuracy\", test_acc, epoch)\n",
        "            wandb.log({\"test acc\": test_acc})\n",
        "\n",
        "\n",
        "    return model, test_loader\n"
      ]
    },
    {
      "cell_type": "code",
      "execution_count": null,
      "metadata": {
        "id": "mkydTB2sNXMo"
      },
      "outputs": [],
      "source": [
        "def test(loader, model, is_validation=True):\n",
        "\n",
        "    model.eval()\n",
        "    list_acc = []\n",
        "    correct = 0\n",
        "    for data in loader:\n",
        "        with torch.no_grad():\n",
        "            emb, pred = model(data)\n",
        "            #print(pred)\n",
        "            pred_labels = torch.Tensor(pred.round()).squeeze(1)\n",
        "            label = data.y\n",
        "            pred = output.round().cpu().detach().numpy()\n",
        "            target = label.cpu().numpy()\n",
        "            acc = metrics.accuracy_score(target,pred)\n",
        "            list_acc.append(acc)\n",
        "        if model.task == 'node':\n",
        "            mask = data.val_mask if is_validation else data.test_mask\n",
        "            # node classification: only evaluate on nodes in test set\n",
        "            pred = pred[mask]\n",
        "            label = data.y[mask]\n",
        "\n",
        "    if model.task == 'graph':\n",
        "        total = len(loader.dataset)\n",
        "    else:\n",
        "        total = 0\n",
        "        for data in loader.dataset:\n",
        "            total += torch.sum(data.test_mask).item()\n",
        "    return np.mean(list_acc)"
      ]
    },
    {
      "cell_type": "code",
      "execution_count": null,
      "metadata": {
        "id": "YWRQY1dEKbFg"
      },
      "outputs": [],
      "source": [
        "\n",
        "def load_graph_data():\n",
        "    # Load labels and features\n",
        "    y = np.load('/content/label_based_on_movie_classification.npy')\n",
        "    x = np.load('/content/eeg_data_no_neutral_PSD_gamma.npy')\n",
        "    #print(x.shape)\n",
        "    # Convert to PyTorch tensors\n",
        "    y = torch.tensor(y, dtype=torch.float32)\n",
        "    x = torch.tensor(x, dtype=torch.float32)\n",
        "    y = y.type(torch.LongTensor)\n",
        "\n",
        "    edge_list = []\n",
        "    for i in range(1,9):\n",
        "      combs = itertools.combinations(range(4*(i-1),4*i), 2)\n",
        "      for z in list(combs):\n",
        "        edge_list.append(z)\n",
        "\n",
        "    # fully connected graph for each graph\n",
        "    edge_index = list(itertools.combinations(range(32), 2))\n",
        "    edge_index = edge_list\n",
        "    edge_index = torch.tensor(edge_index, dtype=torch.long).t().contiguous()\n",
        "\n",
        "    # Create a list of Data objects\n",
        "    data_list = [Data(x=x[i], edge_index=edge_index, y=y[i]) for i in range(x.shape[0])]\n",
        "    print(len(data_list))\n",
        "\n",
        "    print(data_list[0].x.shape)\n",
        "    return data_list"
      ]
    },
    {
      "cell_type": "code",
      "execution_count": null,
      "metadata": {
        "colab": {
          "base_uri": "https://localhost:8080/"
        },
        "id": "m_FM1WZ4K6Cm",
        "outputId": "6aa39e11-2ed0-4146-ef87-cccdc1f4600b"
      },
      "outputs": [
        {
          "output_type": "stream",
          "name": "stdout",
          "text": [
            "2880\n",
            "torch.Size([32, 30])\n"
          ]
        }
      ],
      "source": [
        "data = load_graph_data()"
      ]
    },
    {
      "cell_type": "code",
      "source": [
        "wandb.init(\n",
        "    # set the wandb project where this run will be logged\n",
        "    project=\"GNN EEG BASELINE\",\n",
        "\n",
        "    # track hyperparameters and run metadata\n",
        "    config={\n",
        "    \"learning_rate\": 0.001,\n",
        "    \"architecture\": \"GNN Dense intra local neighbourhood 1\",\n",
        "    \"dataset\": \"EEG\",\n",
        "    \"epochs\": 900,\n",
        "    }\n",
        ")"
      ],
      "metadata": {
        "colab": {
          "base_uri": "https://localhost:8080/",
          "height": 230,
          "referenced_widgets": [
            "c4206aee0cdb40d08a558ee2b1e8dec2",
            "7cd5c5ab3b37424ab00ea0fffbf6e060",
            "41269e799f6c417681c69392370b6268",
            "c9fdbbab3f2b42aba2c48bfd0e7a10c5",
            "5cbc57c4445844ea8fe02d9b08e44f91",
            "8fd891f494d74b88a7710b52db654595",
            "1ee2f25db16946799d5588057fda5061",
            "d9adad7ca865475ead8dd46119d8e3fb"
          ]
        },
        "id": "1uzki_sMRCtA",
        "outputId": "b1cad912-c2bb-4afa-ad83-2b8bcb5f42e9"
      },
      "execution_count": null,
      "outputs": [
        {
          "output_type": "display_data",
          "data": {
            "text/plain": [
              "<IPython.core.display.HTML object>"
            ],
            "text/html": [
              "Finishing last run (ID:wvjo85a1) before initializing another..."
            ]
          },
          "metadata": {}
        },
        {
          "output_type": "display_data",
          "data": {
            "text/plain": [
              "VBox(children=(Label(value='0.001 MB of 0.011 MB uploaded\\r'), FloatProgress(value=0.11047602036259713, max=1.…"
            ],
            "application/vnd.jupyter.widget-view+json": {
              "version_major": 2,
              "version_minor": 0,
              "model_id": "c4206aee0cdb40d08a558ee2b1e8dec2"
            }
          },
          "metadata": {}
        },
        {
          "output_type": "display_data",
          "data": {
            "text/plain": [
              "<IPython.core.display.HTML object>"
            ],
            "text/html": [
              " View run <strong style=\"color:#cdcd00\">desert-dew-10</strong> at: <a href='https://wandb.ai/kaspargesll/GNN%20EEG%20BASELINE/runs/wvjo85a1' target=\"_blank\">https://wandb.ai/kaspargesll/GNN%20EEG%20BASELINE/runs/wvjo85a1</a><br/> View project at: <a href='https://wandb.ai/kaspargesll/GNN%20EEG%20BASELINE' target=\"_blank\">https://wandb.ai/kaspargesll/GNN%20EEG%20BASELINE</a><br/>Synced 5 W&B file(s), 0 media file(s), 0 artifact file(s) and 0 other file(s)"
            ]
          },
          "metadata": {}
        },
        {
          "output_type": "display_data",
          "data": {
            "text/plain": [
              "<IPython.core.display.HTML object>"
            ],
            "text/html": [
              "Find logs at: <code>./wandb/run-20240506_152543-wvjo85a1/logs</code>"
            ]
          },
          "metadata": {}
        },
        {
          "output_type": "display_data",
          "data": {
            "text/plain": [
              "<IPython.core.display.HTML object>"
            ],
            "text/html": [
              "Successfully finished last run (ID:wvjo85a1). Initializing new run:<br/>"
            ]
          },
          "metadata": {}
        },
        {
          "output_type": "display_data",
          "data": {
            "text/plain": [
              "<IPython.core.display.HTML object>"
            ],
            "text/html": [
              "Tracking run with wandb version 0.16.6"
            ]
          },
          "metadata": {}
        },
        {
          "output_type": "display_data",
          "data": {
            "text/plain": [
              "<IPython.core.display.HTML object>"
            ],
            "text/html": [
              "Run data is saved locally in <code>/content/wandb/run-20240506_152805-xbt677g0</code>"
            ]
          },
          "metadata": {}
        },
        {
          "output_type": "display_data",
          "data": {
            "text/plain": [
              "<IPython.core.display.HTML object>"
            ],
            "text/html": [
              "Syncing run <strong><a href='https://wandb.ai/kaspargesll/GNN%20EEG%20BASELINE/runs/xbt677g0' target=\"_blank\">wild-durian-11</a></strong> to <a href='https://wandb.ai/kaspargesll/GNN%20EEG%20BASELINE' target=\"_blank\">Weights & Biases</a> (<a href='https://wandb.me/run' target=\"_blank\">docs</a>)<br/>"
            ]
          },
          "metadata": {}
        },
        {
          "output_type": "display_data",
          "data": {
            "text/plain": [
              "<IPython.core.display.HTML object>"
            ],
            "text/html": [
              " View project at <a href='https://wandb.ai/kaspargesll/GNN%20EEG%20BASELINE' target=\"_blank\">https://wandb.ai/kaspargesll/GNN%20EEG%20BASELINE</a>"
            ]
          },
          "metadata": {}
        },
        {
          "output_type": "display_data",
          "data": {
            "text/plain": [
              "<IPython.core.display.HTML object>"
            ],
            "text/html": [
              " View run at <a href='https://wandb.ai/kaspargesll/GNN%20EEG%20BASELINE/runs/xbt677g0' target=\"_blank\">https://wandb.ai/kaspargesll/GNN%20EEG%20BASELINE/runs/xbt677g0</a>"
            ]
          },
          "metadata": {}
        },
        {
          "output_type": "execute_result",
          "data": {
            "text/html": [
              "<button onClick=\"this.nextSibling.style.display='block';this.style.display='none';\">Display W&B run</button><iframe src='https://wandb.ai/kaspargesll/GNN%20EEG%20BASELINE/runs/xbt677g0?jupyter=true' style='border:none;width:100%;height:420px;display:none;'></iframe>"
            ],
            "text/plain": [
              "<wandb.sdk.wandb_run.Run at 0x7ca7682ac6d0>"
            ]
          },
          "metadata": {},
          "execution_count": 210
        }
      ]
    },
    {
      "cell_type": "code",
      "execution_count": null,
      "metadata": {
        "colab": {
          "base_uri": "https://localhost:8080/"
        },
        "id": "h7uD0UsPLk0_",
        "outputId": "1704c3b4-db7e-434b-e23c-6823413088d3"
      },
      "outputs": [
        {
          "output_type": "stream",
          "name": "stderr",
          "text": [
            "/usr/local/lib/python3.10/dist-packages/torch_geometric/deprecation.py:26: UserWarning: 'data.DataLoader' is deprecated, use 'loader.DataLoader' instead\n",
            "  warnings.warn(out)\n"
          ]
        },
        {
          "output_type": "stream",
          "name": "stdout",
          "text": [
            "Epoch 0. Loss: 0.7082. Test accuracy: 0.5208\n",
            "Epoch 10. Loss: 0.6983. Test accuracy: 0.4931\n",
            "Epoch 20. Loss: 0.6970. Test accuracy: 0.4722\n",
            "Epoch 30. Loss: 0.6944. Test accuracy: 0.5278\n",
            "Epoch 40. Loss: 0.6952. Test accuracy: 0.4722\n",
            "Epoch 50. Loss: 0.6959. Test accuracy: 0.4931\n",
            "Epoch 60. Loss: 0.6942. Test accuracy: 0.4931\n",
            "Epoch 70. Loss: 0.6966. Test accuracy: 0.5069\n",
            "Epoch 80. Loss: 0.6951. Test accuracy: 0.4931\n",
            "Epoch 90. Loss: 0.6940. Test accuracy: 0.5139\n",
            "Epoch 100. Loss: 0.6953. Test accuracy: 0.5278\n",
            "Epoch 110. Loss: 0.6950. Test accuracy: 0.4931\n",
            "Epoch 120. Loss: 0.6946. Test accuracy: 0.4931\n",
            "Epoch 130. Loss: 0.6942. Test accuracy: 0.4861\n",
            "Epoch 140. Loss: 0.6930. Test accuracy: 0.4792\n",
            "Epoch 150. Loss: 0.6939. Test accuracy: 0.4583\n",
            "Epoch 160. Loss: 0.6938. Test accuracy: 0.5069\n",
            "Epoch 170. Loss: 0.6950. Test accuracy: 0.5139\n",
            "Epoch 180. Loss: 0.6954. Test accuracy: 0.5208\n",
            "Epoch 190. Loss: 0.6949. Test accuracy: 0.5208\n",
            "Epoch 200. Loss: 0.6932. Test accuracy: 0.4861\n",
            "Epoch 210. Loss: 0.6951. Test accuracy: 0.4861\n",
            "Epoch 220. Loss: 0.6926. Test accuracy: 0.4792\n",
            "Epoch 230. Loss: 0.6953. Test accuracy: 0.5208\n",
            "Epoch 240. Loss: 0.6946. Test accuracy: 0.5139\n",
            "Epoch 250. Loss: 0.6934. Test accuracy: 0.5139\n",
            "Epoch 260. Loss: 0.6937. Test accuracy: 0.4792\n",
            "Epoch 270. Loss: 0.6928. Test accuracy: 0.5278\n",
            "Epoch 280. Loss: 0.6924. Test accuracy: 0.5208\n",
            "Epoch 290. Loss: 0.6938. Test accuracy: 0.5000\n",
            "Epoch 300. Loss: 0.6938. Test accuracy: 0.5139\n",
            "Epoch 310. Loss: 0.6937. Test accuracy: 0.5208\n",
            "Epoch 320. Loss: 0.6937. Test accuracy: 0.5278\n",
            "Epoch 330. Loss: 0.6935. Test accuracy: 0.4931\n",
            "Epoch 340. Loss: 0.6933. Test accuracy: 0.4861\n",
            "Epoch 350. Loss: 0.6942. Test accuracy: 0.4931\n",
            "Epoch 360. Loss: 0.6945. Test accuracy: 0.5278\n",
            "Epoch 370. Loss: 0.6928. Test accuracy: 0.5139\n",
            "Epoch 380. Loss: 0.6935. Test accuracy: 0.5347\n",
            "Epoch 390. Loss: 0.6941. Test accuracy: 0.4861\n",
            "Epoch 400. Loss: 0.6931. Test accuracy: 0.5139\n",
            "Epoch 410. Loss: 0.6935. Test accuracy: 0.5069\n",
            "Epoch 420. Loss: 0.6932. Test accuracy: 0.5000\n",
            "Epoch 430. Loss: 0.6946. Test accuracy: 0.5000\n",
            "Epoch 440. Loss: 0.6931. Test accuracy: 0.4931\n",
            "Epoch 450. Loss: 0.6934. Test accuracy: 0.5069\n",
            "Epoch 460. Loss: 0.6936. Test accuracy: 0.5069\n",
            "Epoch 470. Loss: 0.6933. Test accuracy: 0.5278\n",
            "Epoch 480. Loss: 0.6931. Test accuracy: 0.5278\n",
            "Epoch 490. Loss: 0.6934. Test accuracy: 0.5278\n",
            "Epoch 500. Loss: 0.6923. Test accuracy: 0.5139\n",
            "Epoch 510. Loss: 0.6930. Test accuracy: 0.5000\n",
            "Epoch 520. Loss: 0.6941. Test accuracy: 0.4931\n",
            "Epoch 530. Loss: 0.6935. Test accuracy: 0.5347\n",
            "Epoch 540. Loss: 0.6941. Test accuracy: 0.4861\n",
            "Epoch 550. Loss: 0.6940. Test accuracy: 0.5208\n",
            "Epoch 560. Loss: 0.6930. Test accuracy: 0.5069\n",
            "Epoch 570. Loss: 0.6936. Test accuracy: 0.5347\n",
            "Epoch 580. Loss: 0.6934. Test accuracy: 0.4792\n",
            "Epoch 590. Loss: 0.6932. Test accuracy: 0.5000\n",
            "Epoch 600. Loss: 0.6934. Test accuracy: 0.5000\n",
            "Epoch 610. Loss: 0.6932. Test accuracy: 0.4861\n",
            "Epoch 620. Loss: 0.6937. Test accuracy: 0.5000\n",
            "Epoch 630. Loss: 0.6928. Test accuracy: 0.5139\n",
            "Epoch 640. Loss: 0.6938. Test accuracy: 0.5000\n",
            "Epoch 650. Loss: 0.6939. Test accuracy: 0.4792\n",
            "Epoch 660. Loss: 0.6940. Test accuracy: 0.5139\n",
            "Epoch 670. Loss: 0.6929. Test accuracy: 0.4931\n",
            "Epoch 680. Loss: 0.6931. Test accuracy: 0.5208\n",
            "Epoch 690. Loss: 0.6935. Test accuracy: 0.5208\n",
            "Epoch 700. Loss: 0.6930. Test accuracy: 0.4861\n",
            "Epoch 710. Loss: 0.6928. Test accuracy: 0.5139\n",
            "Epoch 720. Loss: 0.6934. Test accuracy: 0.4444\n",
            "Epoch 730. Loss: 0.6929. Test accuracy: 0.4792\n",
            "Epoch 740. Loss: 0.6930. Test accuracy: 0.4931\n",
            "Epoch 750. Loss: 0.6932. Test accuracy: 0.5000\n",
            "Epoch 760. Loss: 0.6936. Test accuracy: 0.4861\n",
            "Epoch 770. Loss: 0.6932. Test accuracy: 0.4722\n",
            "Epoch 780. Loss: 0.6932. Test accuracy: 0.5069\n",
            "Epoch 790. Loss: 0.6931. Test accuracy: 0.5069\n",
            "Epoch 800. Loss: 0.6931. Test accuracy: 0.5208\n",
            "Epoch 810. Loss: 0.6935. Test accuracy: 0.4931\n",
            "Epoch 820. Loss: 0.6933. Test accuracy: 0.5208\n",
            "Epoch 830. Loss: 0.6931. Test accuracy: 0.4792\n",
            "Epoch 840. Loss: 0.6932. Test accuracy: 0.4792\n",
            "Epoch 850. Loss: 0.6927. Test accuracy: 0.5278\n",
            "Epoch 860. Loss: 0.6933. Test accuracy: 0.5069\n",
            "Epoch 870. Loss: 0.6931. Test accuracy: 0.4792\n",
            "Epoch 880. Loss: 0.6933. Test accuracy: 0.4792\n",
            "Epoch 890. Loss: 0.6931. Test accuracy: 0.4931\n"
          ]
        }
      ],
      "source": [
        "writer = SummaryWriter(\"./log/\" + datetime.now().strftime(\"%Y%m%d-%H%M%S\"))\n",
        "\n",
        "dataset = data\n",
        "task = 'graph'\n",
        "\n",
        "model_gnn, new_test_loader= train(dataset, task, writer)"
      ]
    },
    {
      "cell_type": "code",
      "execution_count": null,
      "metadata": {
        "id": "OHF8G41fLk3k",
        "colab": {
          "base_uri": "https://localhost:8080/",
          "height": 430
        },
        "outputId": "23481aed-d51c-4191-a585-208d3d4956f7"
      },
      "outputs": [
        {
          "output_type": "display_data",
          "data": {
            "text/plain": [
              "<Figure size 640x480 with 2 Axes>"
            ],
            "image/png": "[encoded data removed]"
          },
          "metadata": {}
        }
      ],
      "source": [
        "import sklearn.metrics\n",
        "import seaborn as sns\n",
        "\n",
        "def confusion_matrix(model, test_loader):\n",
        "    preds = []\n",
        "    targets = []\n",
        "    clean_targets = []\n",
        "    clean_preds = []\n",
        "    with torch.no_grad():\n",
        "      for data in test_loader:\n",
        "          target = data.y\n",
        "          #data, target = data.to(device), target.to(device)\n",
        "          emb, ouput = model(data)\n",
        "          #test_loss += nn.functional.binary_cross_entropy(output, target).item()\n",
        "          pred = output.round().cpu().detach().numpy()\n",
        "          target = target.cpu().numpy()\n",
        "          acc = metrics.accuracy_score(target,pred)\n",
        "          preds.append(pred)\n",
        "          targets.append(target)\n",
        "          #test_acc_list.append(acc)#torch.mean(acc).item()\n",
        "          #sample_eval+= target.shape[0]\n",
        "      for i in targets:\n",
        "        for y in i:\n",
        "          clean_targets.append(y)\n",
        "      for x in preds:\n",
        "        for z in x:\n",
        "          clean_preds.append(z[0])\n",
        "\n",
        "      cf_matrix = sklearn.metrics.confusion_matrix(clean_targets, clean_preds)\n",
        "      labels = ['True Neg','False Pos','False Neg','True Pos']\n",
        "      labels = np.asarray(labels).reshape(2,2)\n",
        "      #sns.heatmap(cf_matrix, annot=labels, fmt='', cmap='Blues')\n",
        "      sns.heatmap(cf_matrix/np.sum(cf_matrix), annot=True,\n",
        "      fmt='.2%', cmap='Blues')\n",
        "confusion_matrix(model_gnn,new_test_loader)\n",
        "\n",
        "\n",
        "#test_idx_list"
      ]
    },
    {
      "cell_type": "code",
      "execution_count": null,
      "metadata": {
        "id": "v6P17bcKLk6O"
      },
      "outputs": [],
      "source": []
    }
  ],
  "metadata": {
    "accelerator": "GPU",
    "colab": {
      "gpuType": "T4",
      "provenance": []
    },
    "kernelspec": {
      "display_name": "Python 3",
      "name": "python3"
    },
    "language_info": {
      "name": "python"
    },
    "widgets": {
      "application/vnd.jupyter.widget-state+json": {
        "61a031723e8248328666bb53decae5a7": {
          "model_module": "@jupyter-widgets/controls",
          "model_name": "VBoxModel",
          "model_module_version": "1.5.0",
          "state": {
            "_dom_classes": [],
            "_model_module": "@jupyter-widgets/controls",
            "_model_module_version": "1.5.0",
            "_model_name": "VBoxModel",
            "_view_count": null,
            "_view_module": "@jupyter-widgets/controls",
            "_view_module_version": "1.5.0",
            "_view_name": "VBoxView",
            "box_style": "",
            "children": [
              "IPY_MODEL_606e2cc936cf43d880ae4d7b80384c72",
              "IPY_MODEL_6c7efdfbe5564059b86d7d1c80533124"
            ],
            "layout": "IPY_MODEL_4c7264cb9ed247c9bbabdb2e553efe28"
          }
        },
        "606e2cc936cf43d880ae4d7b80384c72": {
          "model_module": "@jupyter-widgets/controls",
          "model_name": "LabelModel",
          "model_module_version": "1.5.0",
          "state": {
            "_dom_classes": [],
            "_model_module": "@jupyter-widgets/controls",
            "_model_module_version": "1.5.0",
            "_model_name": "LabelModel",
            "_view_count": null,
            "_view_module": "@jupyter-widgets/controls",
            "_view_module_version": "1.5.0",
            "_view_name": "LabelView",
            "description": "",
            "description_tooltip": null,
            "layout": "IPY_MODEL_a5437701344547d0b36eb6367ce66704",
            "placeholder": "​",
            "style": "IPY_MODEL_7fa7d4a810e94315b683772f18aca22a",
            "value": "0.013 MB of 0.013 MB uploaded\r"
          }
        },
        "6c7efdfbe5564059b86d7d1c80533124": {
          "model_module": "@jupyter-widgets/controls",
          "model_name": "FloatProgressModel",
          "model_module_version": "1.5.0",
          "state": {
            "_dom_classes": [],
            "_model_module": "@jupyter-widgets/controls",
            "_model_module_version": "1.5.0",
            "_model_name": "FloatProgressModel",
            "_view_count": null,
            "_view_module": "@jupyter-widgets/controls",
            "_view_module_version": "1.5.0",
            "_view_name": "ProgressView",
            "bar_style": "",
            "description": "",
            "description_tooltip": null,
            "layout": "IPY_MODEL_822b9abf108c41b4af1965c21d9ee5b1",
            "max": 1,
            "min": 0,
            "orientation": "horizontal",
            "style": "IPY_MODEL_b122b0ae6faf43158dfd97a65e878473",
            "value": 1
          }
        },
        "4c7264cb9ed247c9bbabdb2e553efe28": {
          "model_module": "@jupyter-widgets/base",
          "model_name": "LayoutModel",
          "model_module_version": "1.2.0",
          "state": {
            "_model_module": "@jupyter-widgets/base",
            "_model_module_version": "1.2.0",
            "_model_name": "LayoutModel",
            "_view_count": null,
            "_view_module": "@jupyter-widgets/base",
            "_view_module_version": "1.2.0",
            "_view_name": "LayoutView",
            "align_content": null,
            "align_items": null,
            "align_self": null,
            "border": null,
            "bottom": null,
            "display": null,
            "flex": null,
            "flex_flow": null,
            "grid_area": null,
            "grid_auto_columns": null,
            "grid_auto_flow": null,
            "grid_auto_rows": null,
            "grid_column": null,
            "grid_gap": null,
            "grid_row": null,
            "grid_template_areas": null,
            "grid_template_columns": null,
            "grid_template_rows": null,
            "height": null,
            "justify_content": null,
            "justify_items": null,
            "left": null,
            "margin": null,
            "max_height": null,
            "max_width": null,
            "min_height": null,
            "min_width": null,
            "object_fit": null,
            "object_position": null,
            "order": null,
            "overflow": null,
            "overflow_x": null,
            "overflow_y": null,
            "padding": null,
            "right": null,
            "top": null,
            "visibility": null,
            "width": null
          }
        },
        "a5437701344547d0b36eb6367ce66704": {
          "model_module": "@jupyter-widgets/base",
          "model_name": "LayoutModel",
          "model_module_version": "1.2.0",
          "state": {
            "_model_module": "@jupyter-widgets/base",
            "_model_module_version": "1.2.0",
            "_model_name": "LayoutModel",
            "_view_count": null,
            "_view_module": "@jupyter-widgets/base",
            "_view_module_version": "1.2.0",
            "_view_name": "LayoutView",
            "align_content": null,
            "align_items": null,
            "align_self": null,
            "border": null,
            "bottom": null,
            "display": null,
            "flex": null,
            "flex_flow": null,
            "grid_area": null,
            "grid_auto_columns": null,
            "grid_auto_flow": null,
            "grid_auto_rows": null,
            "grid_column": null,
            "grid_gap": null,
            "grid_row": null,
            "grid_template_areas": null,
            "grid_template_columns": null,
            "grid_template_rows": null,
            "height": null,
            "justify_content": null,
            "justify_items": null,
            "left": null,
            "margin": null,
            "max_height": null,
            "max_width": null,
            "min_height": null,
            "min_width": null,
            "object_fit": null,
            "object_position": null,
            "order": null,
            "overflow": null,
            "overflow_x": null,
            "overflow_y": null,
            "padding": null,
            "right": null,
            "top": null,
            "visibility": null,
            "width": null
          }
        },
        "7fa7d4a810e94315b683772f18aca22a": {
          "model_module": "@jupyter-widgets/controls",
          "model_name": "DescriptionStyleModel",
          "model_module_version": "1.5.0",
          "state": {
            "_model_module": "@jupyter-widgets/controls",
            "_model_module_version": "1.5.0",
            "_model_name": "DescriptionStyleModel",
            "_view_count": null,
            "_view_module": "@jupyter-widgets/base",
            "_view_module_version": "1.2.0",
            "_view_name": "StyleView",
            "description_width": ""
          }
        },
        "822b9abf108c41b4af1965c21d9ee5b1": {
          "model_module": "@jupyter-widgets/base",
          "model_name": "LayoutModel",
          "model_module_version": "1.2.0",
          "state": {
            "_model_module": "@jupyter-widgets/base",
            "_model_module_version": "1.2.0",
            "_model_name": "LayoutModel",
            "_view_count": null,
            "_view_module": "@jupyter-widgets/base",
            "_view_module_version": "1.2.0",
            "_view_name": "LayoutView",
            "align_content": null,
            "align_items": null,
            "align_self": null,
            "border": null,
            "bottom": null,
            "display": null,
            "flex": null,
            "flex_flow": null,
            "grid_area": null,
            "grid_auto_columns": null,
            "grid_auto_flow": null,
            "grid_auto_rows": null,
            "grid_column": null,
            "grid_gap": null,
            "grid_row": null,
            "grid_template_areas": null,
            "grid_template_columns": null,
            "grid_template_rows": null,
            "height": null,
            "justify_content": null,
            "justify_items": null,
            "left": null,
            "margin": null,
            "max_height": null,
            "max_width": null,
            "min_height": null,
            "min_width": null,
            "object_fit": null,
            "object_position": null,
            "order": null,
            "overflow": null,
            "overflow_x": null,
            "overflow_y": null,
            "padding": null,
            "right": null,
            "top": null,
            "visibility": null,
            "width": null
          }
        },
        "b122b0ae6faf43158dfd97a65e878473": {
          "model_module": "@jupyter-widgets/controls",
          "model_name": "ProgressStyleModel",
          "model_module_version": "1.5.0",
          "state": {
            "_model_module": "@jupyter-widgets/controls",
            "_model_module_version": "1.5.0",
            "_model_name": "ProgressStyleModel",
            "_view_count": null,
            "_view_module": "@jupyter-widgets/base",
            "_view_module_version": "1.2.0",
            "_view_name": "StyleView",
            "bar_color": null,
            "description_width": ""
          }
        },
        "6978ccb19bf84d61984a8a9441a1669c": {
          "model_module": "@jupyter-widgets/controls",
          "model_name": "VBoxModel",
          "model_module_version": "1.5.0",
          "state": {
            "_dom_classes": [],
            "_model_module": "@jupyter-widgets/controls",
            "_model_module_version": "1.5.0",
            "_model_name": "VBoxModel",
            "_view_count": null,
            "_view_module": "@jupyter-widgets/controls",
            "_view_module_version": "1.5.0",
            "_view_name": "VBoxView",
            "box_style": "",
            "children": [
              "IPY_MODEL_fb814ded76714c3d95d5e4c1824dd182",
              "IPY_MODEL_77af7d0fe1954249bc4d2681d057b15a"
            ],
            "layout": "IPY_MODEL_1fb0bc6b515f461aa5c8e309812095ee"
          }
        },
        "fb814ded76714c3d95d5e4c1824dd182": {
          "model_module": "@jupyter-widgets/controls",
          "model_name": "LabelModel",
          "model_module_version": "1.5.0",
          "state": {
            "_dom_classes": [],
            "_model_module": "@jupyter-widgets/controls",
            "_model_module_version": "1.5.0",
            "_model_name": "LabelModel",
            "_view_count": null,
            "_view_module": "@jupyter-widgets/controls",
            "_view_module_version": "1.5.0",
            "_view_name": "LabelView",
            "description": "",
            "description_tooltip": null,
            "layout": "IPY_MODEL_1530535c855142e8b903a95c52c0760d",
            "placeholder": "​",
            "style": "IPY_MODEL_cc7a664441b94d2689a29e9bf44d6e19",
            "value": "0.015 MB of 0.015 MB uploaded\r"
          }
        },
        "77af7d0fe1954249bc4d2681d057b15a": {
          "model_module": "@jupyter-widgets/controls",
          "model_name": "FloatProgressModel",
          "model_module_version": "1.5.0",
          "state": {
            "_dom_classes": [],
            "_model_module": "@jupyter-widgets/controls",
            "_model_module_version": "1.5.0",
            "_model_name": "FloatProgressModel",
            "_view_count": null,
            "_view_module": "@jupyter-widgets/controls",
            "_view_module_version": "1.5.0",
            "_view_name": "ProgressView",
            "bar_style": "",
            "description": "",
            "description_tooltip": null,
            "layout": "IPY_MODEL_68da271048a54e69a040ba44fd2d7cba",
            "max": 1,
            "min": 0,
            "orientation": "horizontal",
            "style": "IPY_MODEL_428d94d538d14d71a1b89c54137cd233",
            "value": 1
          }
        },
        "1fb0bc6b515f461aa5c8e309812095ee": {
          "model_module": "@jupyter-widgets/base",
          "model_name": "LayoutModel",
          "model_module_version": "1.2.0",
          "state": {
            "_model_module": "@jupyter-widgets/base",
            "_model_module_version": "1.2.0",
            "_model_name": "LayoutModel",
            "_view_count": null,
            "_view_module": "@jupyter-widgets/base",
            "_view_module_version": "1.2.0",
            "_view_name": "LayoutView",
            "align_content": null,
            "align_items": null,
            "align_self": null,
            "border": null,
            "bottom": null,
            "display": null,
            "flex": null,
            "flex_flow": null,
            "grid_area": null,
            "grid_auto_columns": null,
            "grid_auto_flow": null,
            "grid_auto_rows": null,
            "grid_column": null,
            "grid_gap": null,
            "grid_row": null,
            "grid_template_areas": null,
            "grid_template_columns": null,
            "grid_template_rows": null,
            "height": null,
            "justify_content": null,
            "justify_items": null,
            "left": null,
            "margin": null,
            "max_height": null,
            "max_width": null,
            "min_height": null,
            "min_width": null,
            "object_fit": null,
            "object_position": null,
            "order": null,
            "overflow": null,
            "overflow_x": null,
            "overflow_y": null,
            "padding": null,
            "right": null,
            "top": null,
            "visibility": null,
            "width": null
          }
        },
        "1530535c855142e8b903a95c52c0760d": {
          "model_module": "@jupyter-widgets/base",
          "model_name": "LayoutModel",
          "model_module_version": "1.2.0",
          "state": {
            "_model_module": "@jupyter-widgets/base",
            "_model_module_version": "1.2.0",
            "_model_name": "LayoutModel",
            "_view_count": null,
            "_view_module": "@jupyter-widgets/base",
            "_view_module_version": "1.2.0",
            "_view_name": "LayoutView",
            "align_content": null,
            "align_items": null,
            "align_self": null,
            "border": null,
            "bottom": null,
            "display": null,
            "flex": null,
            "flex_flow": null,
            "grid_area": null,
            "grid_auto_columns": null,
            "grid_auto_flow": null,
            "grid_auto_rows": null,
            "grid_column": null,
            "grid_gap": null,
            "grid_row": null,
            "grid_template_areas": null,
            "grid_template_columns": null,
            "grid_template_rows": null,
            "height": null,
            "justify_content": null,
            "justify_items": null,
            "left": null,
            "margin": null,
            "max_height": null,
            "max_width": null,
            "min_height": null,
            "min_width": null,
            "object_fit": null,
            "object_position": null,
            "order": null,
            "overflow": null,
            "overflow_x": null,
            "overflow_y": null,
            "padding": null,
            "right": null,
            "top": null,
            "visibility": null,
            "width": null
          }
        },
        "cc7a664441b94d2689a29e9bf44d6e19": {
          "model_module": "@jupyter-widgets/controls",
          "model_name": "DescriptionStyleModel",
          "model_module_version": "1.5.0",
          "state": {
            "_model_module": "@jupyter-widgets/controls",
            "_model_module_version": "1.5.0",
            "_model_name": "DescriptionStyleModel",
            "_view_count": null,
            "_view_module": "@jupyter-widgets/base",
            "_view_module_version": "1.2.0",
            "_view_name": "StyleView",
            "description_width": ""
          }
        },
        "68da271048a54e69a040ba44fd2d7cba": {
          "model_module": "@jupyter-widgets/base",
          "model_name": "LayoutModel",
          "model_module_version": "1.2.0",
          "state": {
            "_model_module": "@jupyter-widgets/base",
            "_model_module_version": "1.2.0",
            "_model_name": "LayoutModel",
            "_view_count": null,
            "_view_module": "@jupyter-widgets/base",
            "_view_module_version": "1.2.0",
            "_view_name": "LayoutView",
            "align_content": null,
            "align_items": null,
            "align_self": null,
            "border": null,
            "bottom": null,
            "display": null,
            "flex": null,
            "flex_flow": null,
            "grid_area": null,
            "grid_auto_columns": null,
            "grid_auto_flow": null,
            "grid_auto_rows": null,
            "grid_column": null,
            "grid_gap": null,
            "grid_row": null,
            "grid_template_areas": null,
            "grid_template_columns": null,
            "grid_template_rows": null,
            "height": null,
            "justify_content": null,
            "justify_items": null,
            "left": null,
            "margin": null,
            "max_height": null,
            "max_width": null,
            "min_height": null,
            "min_width": null,
            "object_fit": null,
            "object_position": null,
            "order": null,
            "overflow": null,
            "overflow_x": null,
            "overflow_y": null,
            "padding": null,
            "right": null,
            "top": null,
            "visibility": null,
            "width": null
          }
        },
        "428d94d538d14d71a1b89c54137cd233": {
          "model_module": "@jupyter-widgets/controls",
          "model_name": "ProgressStyleModel",
          "model_module_version": "1.5.0",
          "state": {
            "_model_module": "@jupyter-widgets/controls",
            "_model_module_version": "1.5.0",
            "_model_name": "ProgressStyleModel",
            "_view_count": null,
            "_view_module": "@jupyter-widgets/base",
            "_view_module_version": "1.2.0",
            "_view_name": "StyleView",
            "bar_color": null,
            "description_width": ""
          }
        },
        "c4206aee0cdb40d08a558ee2b1e8dec2": {
          "model_module": "@jupyter-widgets/controls",
          "model_name": "VBoxModel",
          "model_module_version": "1.5.0",
          "state": {
            "_dom_classes": [],
            "_model_module": "@jupyter-widgets/controls",
            "_model_module_version": "1.5.0",
            "_model_name": "VBoxModel",
            "_view_count": null,
            "_view_module": "@jupyter-widgets/controls",
            "_view_module_version": "1.5.0",
            "_view_name": "VBoxView",
            "box_style": "",
            "children": [
              "IPY_MODEL_7cd5c5ab3b37424ab00ea0fffbf6e060",
              "IPY_MODEL_41269e799f6c417681c69392370b6268"
            ],
            "layout": "IPY_MODEL_c9fdbbab3f2b42aba2c48bfd0e7a10c5"
          }
        },
        "7cd5c5ab3b37424ab00ea0fffbf6e060": {
          "model_module": "@jupyter-widgets/controls",
          "model_name": "LabelModel",
          "model_module_version": "1.5.0",
          "state": {
            "_dom_classes": [],
            "_model_module": "@jupyter-widgets/controls",
            "_model_module_version": "1.5.0",
            "_model_name": "LabelModel",
            "_view_count": null,
            "_view_module": "@jupyter-widgets/controls",
            "_view_module_version": "1.5.0",
            "_view_name": "LabelView",
            "description": "",
            "description_tooltip": null,
            "layout": "IPY_MODEL_5cbc57c4445844ea8fe02d9b08e44f91",
            "placeholder": "​",
            "style": "IPY_MODEL_8fd891f494d74b88a7710b52db654595",
            "value": "0.011 MB of 0.011 MB uploaded\r"
          }
        },
        "41269e799f6c417681c69392370b6268": {
          "model_module": "@jupyter-widgets/controls",
          "model_name": "FloatProgressModel",
          "model_module_version": "1.5.0",
          "state": {
            "_dom_classes": [],
            "_model_module": "@jupyter-widgets/controls",
            "_model_module_version": "1.5.0",
            "_model_name": "FloatProgressModel",
            "_view_count": null,
            "_view_module": "@jupyter-widgets/controls",
            "_view_module_version": "1.5.0",
            "_view_name": "ProgressView",
            "bar_style": "",
            "description": "",
            "description_tooltip": null,
            "layout": "IPY_MODEL_1ee2f25db16946799d5588057fda5061",
            "max": 1,
            "min": 0,
            "orientation": "horizontal",
            "style": "IPY_MODEL_d9adad7ca865475ead8dd46119d8e3fb",
            "value": 1
          }
        },
        "c9fdbbab3f2b42aba2c48bfd0e7a10c5": {
          "model_module": "@jupyter-widgets/base",
          "model_name": "LayoutModel",
          "model_module_version": "1.2.0",
          "state": {
            "_model_module": "@jupyter-widgets/base",
            "_model_module_version": "1.2.0",
            "_model_name": "LayoutModel",
            "_view_count": null,
            "_view_module": "@jupyter-widgets/base",
            "_view_module_version": "1.2.0",
            "_view_name": "LayoutView",
            "align_content": null,
            "align_items": null,
            "align_self": null,
            "border": null,
            "bottom": null,
            "display": null,
            "flex": null,
            "flex_flow": null,
            "grid_area": null,
            "grid_auto_columns": null,
            "grid_auto_flow": null,
            "grid_auto_rows": null,
            "grid_column": null,
            "grid_gap": null,
            "grid_row": null,
            "grid_template_areas": null,
            "grid_template_columns": null,
            "grid_template_rows": null,
            "height": null,
            "justify_content": null,
            "justify_items": null,
            "left": null,
            "margin": null,
            "max_height": null,
            "max_width": null,
            "min_height": null,
            "min_width": null,
            "object_fit": null,
            "object_position": null,
            "order": null,
            "overflow": null,
            "overflow_x": null,
            "overflow_y": null,
            "padding": null,
            "right": null,
            "top": null,
            "visibility": null,
            "width": null
          }
        },
        "5cbc57c4445844ea8fe02d9b08e44f91": {
          "model_module": "@jupyter-widgets/base",
          "model_name": "LayoutModel",
          "model_module_version": "1.2.0",
          "state": {
            "_model_module": "@jupyter-widgets/base",
            "_model_module_version": "1.2.0",
            "_model_name": "LayoutModel",
            "_view_count": null,
            "_view_module": "@jupyter-widgets/base",
            "_view_module_version": "1.2.0",
            "_view_name": "LayoutView",
            "align_content": null,
            "align_items": null,
            "align_self": null,
            "border": null,
            "bottom": null,
            "display": null,
            "flex": null,
            "flex_flow": null,
            "grid_area": null,
            "grid_auto_columns": null,
            "grid_auto_flow": null,
            "grid_auto_rows": null,
            "grid_column": null,
            "grid_gap": null,
            "grid_row": null,
            "grid_template_areas": null,
            "grid_template_columns": null,
            "grid_template_rows": null,
            "height": null,
            "justify_content": null,
            "justify_items": null,
            "left": null,
            "margin": null,
            "max_height": null,
            "max_width": null,
            "min_height": null,
            "min_width": null,
            "object_fit": null,
            "object_position": null,
            "order": null,
            "overflow": null,
            "overflow_x": null,
            "overflow_y": null,
            "padding": null,
            "right": null,
            "top": null,
            "visibility": null,
            "width": null
          }
        },
        "8fd891f494d74b88a7710b52db654595": {
          "model_module": "@jupyter-widgets/controls",
          "model_name": "DescriptionStyleModel",
          "model_module_version": "1.5.0",
          "state": {
            "_model_module": "@jupyter-widgets/controls",
            "_model_module_version": "1.5.0",
            "_model_name": "DescriptionStyleModel",
            "_view_count": null,
            "_view_module": "@jupyter-widgets/base",
            "_view_module_version": "1.2.0",
            "_view_name": "StyleView",
            "description_width": ""
          }
        },
        "1ee2f25db16946799d5588057fda5061": {
          "model_module": "@jupyter-widgets/base",
          "model_name": "LayoutModel",
          "model_module_version": "1.2.0",
          "state": {
            "_model_module": "@jupyter-widgets/base",
            "_model_module_version": "1.2.0",
            "_model_name": "LayoutModel",
            "_view_count": null,
            "_view_module": "@jupyter-widgets/base",
            "_view_module_version": "1.2.0",
            "_view_name": "LayoutView",
            "align_content": null,
            "align_items": null,
            "align_self": null,
            "border": null,
            "bottom": null,
            "display": null,
            "flex": null,
            "flex_flow": null,
            "grid_area": null,
            "grid_auto_columns": null,
            "grid_auto_flow": null,
            "grid_auto_rows": null,
            "grid_column": null,
            "grid_gap": null,
            "grid_row": null,
            "grid_template_areas": null,
            "grid_template_columns": null,
            "grid_template_rows": null,
            "height": null,
            "justify_content": null,
            "justify_items": null,
            "left": null,
            "margin": null,
            "max_height": null,
            "max_width": null,
            "min_height": null,
            "min_width": null,
            "object_fit": null,
            "object_position": null,
            "order": null,
            "overflow": null,
            "overflow_x": null,
            "overflow_y": null,
            "padding": null,
            "right": null,
            "top": null,
            "visibility": null,
            "width": null
          }
        },
        "d9adad7ca865475ead8dd46119d8e3fb": {
          "model_module": "@jupyter-widgets/controls",
          "model_name": "ProgressStyleModel",
          "model_module_version": "1.5.0",
          "state": {
            "_model_module": "@jupyter-widgets/controls",
            "_model_module_version": "1.5.0",
            "_model_name": "ProgressStyleModel",
            "_view_count": null,
            "_view_module": "@jupyter-widgets/base",
            "_view_module_version": "1.2.0",
            "_view_name": "StyleView",
            "bar_color": null,
            "description_width": ""
          }
        }
      }
    }
  },
  "nbformat": 4,
  "nbformat_minor": 0
}