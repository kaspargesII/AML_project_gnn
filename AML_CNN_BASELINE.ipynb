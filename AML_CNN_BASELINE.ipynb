{
  "cells": [
    {
      "cell_type": "code",
      "execution_count": 117,
      "metadata": {
        "id": "_sFnoc41nmT1"
      },
      "outputs": [],
      "source": [
        "import pickle\n",
        "import numpy as np\n",
        "import torch"
      ]
    },
    {
      "cell_type": "code",
      "execution_count": 118,
      "metadata": {
        "id": "3_52HlmOsPp4"
      },
      "outputs": [],
      "source": [
        "import torch\n",
        "from torch.utils.data import Dataset\n",
        "from torchvision import datasets\n",
        "from torchvision.transforms import ToTensor\n",
        "import matplotlib.pyplot as plt\n",
        "import os\n",
        "import pandas as pd\n",
        "import torch.nn as nn\n",
        "import torch.nn.functional as F\n",
        "import torch.optim as optim\n",
        "from sklearn.model_selection import KFold\n",
        "from torch.utils.data import DataLoader\n",
        "\n"
      ]
    },
    {
      "cell_type": "code",
      "execution_count": 120,
      "metadata": {
        "id": "-1ma-NvnsQoV"
      },
      "outputs": [],
      "source": [
        "class CustomEEGDataset(Dataset):\n",
        "    def __init__(self, annotations_file, eeg_file, transform=None, target_transform=None):\n",
        "        self.eeg_labels = torch.from_numpy(np.load(annotations_file).reshape(-1,1))\n",
        "        self.eeg_data = torch.from_numpy(np.load(eeg_file))\n",
        "        self.transform = transform\n",
        "        self.target_transform = target_transform\n",
        "\n",
        "    def __len__(self):\n",
        "        return len(self.eeg_labels)\n",
        "\n",
        "    def __getitem__(self, idx):\n",
        "        label = self.eeg_labels[idx]\n",
        "        eeg = self.eeg_data[idx]\n",
        "        if self.transform:\n",
        "            eeg = self.transform(eeg)\n",
        "        if self.target_transform:\n",
        "            label = self.target_transform(label)\n",
        "        return eeg, label"
      ]
    },
    {
      "cell_type": "code",
      "execution_count": 121,
      "metadata": {
        "id": "tvL2CVHLsQwM"
      },
      "outputs": [],
      "source": [
        "eeg_DE_dataset = CustomEEGDataset('/content/label_valence.npy','/content/eeg_data.npy' )"
      ]
    },
    {
      "cell_type": "code",
      "execution_count": 122,
      "metadata": {
        "colab": {
          "base_uri": "https://localhost:8080/"
        },
        "id": "-CeCx-PpnPXc",
        "outputId": "6110add3-6bca-4752-9fd8-cd21f132b8a6"
      },
      "outputs": [
        {
          "output_type": "stream",
          "name": "stdout",
          "text": [
            "torch.Size([1])\n"
          ]
        }
      ],
      "source": [
        "a,b = eeg_DE_dataset[0]\n",
        "print(b.shape)"
      ]
    },
    {
      "cell_type": "code",
      "execution_count": null,
      "metadata": {
        "id": "IteNQmTshxIE"
      },
      "outputs": [],
      "source": [
        "trainloader = torch.utils.data.DataLoader(eeg_DE_dataset, batch_size=4,\n",
        "                                          shuffle=True, num_workers=2)"
      ]
    },
    {
      "cell_type": "code",
      "execution_count": 132,
      "metadata": {
        "id": "Jpz5UyNisQ4e"
      },
      "outputs": [],
      "source": [
        "class Net(nn.Module):\n",
        "    def __init__(self):\n",
        "        super().__init__()\n",
        "        self.conv1 = nn.Conv2d(32, 32, 2)\n",
        "        self.pool = nn.MaxPool2d(2, 2)\n",
        "        self.conv2 = nn.Conv2d(32, 32,2)\n",
        "        self.fc1 = nn.Linear(896, 120)\n",
        "        self.fc2 = nn.Linear(120, 24)\n",
        "        self.fc3 = nn.Linear(24, 1)\n",
        "\n",
        "    def forward(self, x):\n",
        "        x = self.pool(F.relu(self.conv1(x)))\n",
        "        #x = self.pool(F.relu(self.conv2(x)))\n",
        "        x = torch.flatten(x, 1) # flatten all dimensions except batch\n",
        "        x = F.relu(self.fc1(x))\n",
        "        x = F.relu(self.fc2(x))\n",
        "        x = self.fc3(x)\n",
        "        return F.log_softmax(x, dim=1)\n",
        "\n",
        "def train(model, device, train_loader, optimizer, epoch):\n",
        "    model.train()\n",
        "    correct = 0\n",
        "    for batch_idx, (data, target) in enumerate(train_loader):\n",
        "        data, target = data.to(device), target.to(device)\n",
        "        optimizer.zero_grad()\n",
        "        output = model(data)\n",
        "        loss = nn.functional.binary_cross_entropy(output, target)\n",
        "        loss.backward()\n",
        "        optimizer.step()\n",
        "        #output = model(data)\n",
        "        #correct = int(sum(output.eq(target))[0])\n",
        "        #print('train acc: ', correct/target.shape[0])\n",
        "\n",
        "\n",
        "net = Net()"
      ]
    },
    {
      "cell_type": "code",
      "execution_count": null,
      "metadata": {
        "id": "oMO-xgupsQ7H"
      },
      "outputs": [],
      "source": [
        "#criterion = nn.BCELoss()\n",
        "#optimizer = optim.SGD(net.parameters(), lr=0.001, momentum=0.9)"
      ]
    },
    {
      "cell_type": "code",
      "execution_count": null,
      "metadata": {
        "id": "eOTEKLWYsQ-N"
      },
      "outputs": [],
      "source": [
        "\"\"\"for epoch in range(1000):  # loop over the dataset multiple times\n",
        "    running_loss = 0.0\n",
        "    for i, data in enumerate(trainloader, 0):\n",
        "        # get the inputs; data is a list of [inputs, labels]\n",
        "        inputs, labels = data\n",
        "        labels = labels.unsqueeze(1)\n",
        "\n",
        "        # zero the parameter gradients\n",
        "        optimizer.zero_grad()\n",
        "\n",
        "        # forward + backward + optimize\n",
        "        outputs = net(inputs)\n",
        "        loss = criterion(outputs, labels)\n",
        "        loss.backward()\n",
        "        optimizer.step()\n",
        "        print(i % 2000)\n",
        "        # print statistics\n",
        "        running_loss += loss.item()\n",
        "        if i % 2000 == 1999:    # print every 2000 mini-batches\n",
        "            print(f'[{epoch + 1}, {i + 1:5d}] loss: {running_loss / 2000:.3f}')\n",
        "            running_loss = 0.0\n",
        "\n",
        "print('Finished Training')\n",
        "\"\"\""
      ]
    },
    {
      "cell_type": "code",
      "execution_count": null,
      "metadata": {
        "id": "VsMEHRcLsRA2"
      },
      "outputs": [],
      "source": []
    },
    {
      "cell_type": "code",
      "execution_count": null,
      "metadata": {
        "id": "en_goqEfpXTY"
      },
      "outputs": [],
      "source": []
    },
    {
      "cell_type": "code",
      "execution_count": null,
      "metadata": {
        "id": "sPZ3emI_pXWu"
      },
      "outputs": [],
      "source": []
    },
    {
      "cell_type": "code",
      "execution_count": null,
      "metadata": {
        "colab": {
          "base_uri": "https://localhost:8080/"
        },
        "id": "hVeMw7McpXaa",
        "outputId": "c79e766f-2341-4d73-99cf-bad4d34ca604"
      },
      "outputs": [
        {
          "output_type": "stream",
          "name": "stdout",
          "text": [
            "Fold 1\n",
            "-------\n"
          ]
        }
      ],
      "source": [
        "# Define the number of folds and batch size\n",
        "k_folds = 5\n",
        "batch_size = 32\n",
        "\n",
        "# Define the device (CPU or GPU)\n",
        "device = torch.device(\"cuda\" if torch.cuda.is_available() else \"cpu\")\n",
        "\n",
        "# Initialize the k-fold cross validation\n",
        "kf = KFold(n_splits=k_folds, shuffle=True)\n",
        "\n",
        "# Loop through each fold\n",
        "for fold, (train_idx, test_idx) in enumerate(kf.split(eeg_DE_dataset)):\n",
        "    print(f\"Fold {fold + 1}\")\n",
        "    print(\"-------\")\n",
        "\n",
        "    # Define the data loaders for the current fold\n",
        "    train_loader = DataLoader(\n",
        "        dataset=eeg_DE_dataset,\n",
        "        batch_size=batch_size,\n",
        "        sampler=torch.utils.data.SubsetRandomSampler(train_idx),\n",
        "    )\n",
        "\n",
        "    test_loader = DataLoader(\n",
        "        dataset=eeg_DE_dataset,\n",
        "        batch_size=batch_size,\n",
        "        sampler=torch.utils.data.SubsetRandomSampler(test_idx),\n",
        "    )\n",
        "\n",
        "    # Initialize the model and optimizer\n",
        "    model = Net().to(device)\n",
        "    optimizer = optim.Adam(model.parameters(), lr=0.001)\n",
        "\n",
        "    # Train the model on the current fold\n",
        "    for epoch in range(1, 1000):\n",
        "        train(model, device, train_loader, optimizer, epoch)\n",
        "    # Evaluate the model on the test set\n",
        "    model.eval()\n",
        "    test_loss = 0\n",
        "    correct = 0\n",
        "    sample_eval = 0\n",
        "    with torch.no_grad():\n",
        "        for data, target in test_loader:\n",
        "            data, target = data.to(device), target.to(device)\n",
        "            output = model(data)\n",
        "            test_loss += nn.functional.binary_cross_entropy(output, target).item()\n",
        "            pred = output\n",
        "            correct += int(sum(pred.eq(target))[0])\n",
        "            sample_eval += int(target.shape[0])\n",
        "\n",
        "    test_loss /= sample_eval\n",
        "    accuracy = 100.0 * correct / sample_eval\n",
        "\n",
        "    #Print the results for the current fold\n",
        "    print(f\"Test set: Average loss: {test_loss:.4f}, Accuracy: {correct}/{sample_eval} ({accuracy:.2f}%)\\n\")"
      ]
    },
    {
      "cell_type": "code",
      "execution_count": null,
      "metadata": {
        "id": "gkeRwu-zpXdQ"
      },
      "outputs": [],
      "source": []
    },
    {
      "cell_type": "code",
      "execution_count": null,
      "metadata": {
        "id": "1QPSV4ZIpXgZ"
      },
      "outputs": [],
      "source": []
    },
    {
      "cell_type": "code",
      "execution_count": null,
      "metadata": {
        "id": "tCmCJ5fXpXi-"
      },
      "outputs": [],
      "source": []
    }
  ],
  "metadata": {
    "accelerator": "GPU",
    "colab": {
      "gpuType": "T4",
      "provenance": []
    },
    "kernelspec": {
      "display_name": "Python 3",
      "name": "python3"
    },
    "language_info": {
      "name": "python"
    }
  },
  "nbformat": 4,
  "nbformat_minor": 0
}